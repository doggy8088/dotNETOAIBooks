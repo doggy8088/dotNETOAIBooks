{
 "cells": [
  {
   "cell_type": "code",
   "execution_count": 169,
   "metadata": {
    "dotnet_interactive": {
     "language": "csharp"
    },
    "polyglot_notebook": {
     "kernelName": "csharp"
    },
    "vscode": {
     "languageId": "polyglot-notebook"
    }
   },
   "outputs": [
    {
     "data": {
      "text/html": [
       "<div><div></div><div></div><div><strong>Installed Packages</strong><ul><li><span>Microsoft.ML, 2.0.1</span></li><li><span>Microsoft.ML.OnnxConverter, 0.20.1</span></li></ul></div></div>"
      ]
     },
     "metadata": {},
     "output_type": "display_data"
    }
   ],
   "source": [
    "#r \"nuget: Microsoft.ML\"\n",
    "#r \"nuget: Microsoft.ML.OnnxConverter\""
   ]
  },
  {
   "cell_type": "code",
   "execution_count": 170,
   "metadata": {
    "dotnet_interactive": {
     "language": "csharp"
    },
    "polyglot_notebook": {
     "kernelName": "csharp"
    },
    "vscode": {
     "languageId": "polyglot-notebook"
    }
   },
   "outputs": [
    {
     "data": {
      "text/html": [
       "<div><div></div><div></div><div><strong>Installed Packages</strong><ul><li><span>Jieba.Net.Core, 1.1.0</span></li></ul></div></div>"
      ]
     },
     "metadata": {},
     "output_type": "display_data"
    }
   ],
   "source": [
    "#r \"nuget: Jieba.Net.Core\""
   ]
  },
  {
   "cell_type": "code",
   "execution_count": 171,
   "metadata": {
    "dotnet_interactive": {
     "language": "csharp"
    },
    "polyglot_notebook": {
     "kernelName": "csharp"
    },
    "vscode": {
     "languageId": "polyglot-notebook"
    }
   },
   "outputs": [],
   "source": [
    "using System;\n",
    "using System.IO;\n",
    "using System.Linq;\n",
    "\n",
    "using Microsoft.ML;\n",
    "using Microsoft.ML.Data;\n",
    "using Microsoft.ML.Transforms;\n",
    "\n",
    "using JiebaNet;"
   ]
  },
  {
   "cell_type": "code",
   "execution_count": 172,
   "metadata": {
    "dotnet_interactive": {
     "language": "csharp"
    },
    "polyglot_notebook": {
     "kernelName": "csharp"
    },
    "vscode": {
     "languageId": "polyglot-notebook"
    }
   },
   "outputs": [],
   "source": [
    "    public class Question\n",
    "    {\n",
    "        [LoadColumn(0)]\n",
    "        public int Label { get; set; }\n",
    "        [LoadColumn(1)]\n",
    "        public string Text { get; set; }\n",
    "    }"
   ]
  },
  {
   "cell_type": "code",
   "execution_count": 173,
   "metadata": {
    "dotnet_interactive": {
     "language": "csharp"
    },
    "polyglot_notebook": {
     "kernelName": "csharp"
    },
    "vscode": {
     "languageId": "polyglot-notebook"
    }
   },
   "outputs": [],
   "source": [
    "public class JiebaLambdaInput\n",
    "{\n",
    "    public string Text { get; set; }\n",
    "}\n",
    "\n",
    "public class JiebaLambdaOutput\n",
    "{\n",
    "    public string JiebaText { get; set; }\n",
    "}\n",
    "\n",
    "public class JiebaLambda\n",
    "{       \n",
    "        public static void MyAction(JiebaLambdaInput input, JiebaLambdaOutput output)\n",
    "        {\n",
    "            JiebaNet.Segmenter.JiebaSegmenter jiebaSegmenter = new JiebaNet.Segmenter.JiebaSegmenter();\n",
    "            output.JiebaText = string.Join(\" \", jiebaSegmenter.Cut(input.Text));\n",
    "\n",
    "            Count++;\n",
    "        }\n",
    "\n",
    "        static int Count = 0;\n",
    "}"
   ]
  },
  {
   "cell_type": "code",
   "execution_count": 174,
   "metadata": {
    "dotnet_interactive": {
     "language": "csharp"
    },
    "polyglot_notebook": {
     "kernelName": "csharp"
    },
    "vscode": {
     "languageId": "polyglot-notebook"
    }
   },
   "outputs": [],
   "source": [
    "MLContext mlContext = new MLContext();\n",
    "var fulldata = mlContext.Data.LoadFromTextFile<Question>(\"./data/qa.csv\", separatorChar: ',', hasHeader: false);"
   ]
  },
  {
   "cell_type": "code",
   "execution_count": 175,
   "metadata": {
    "dotnet_interactive": {
     "language": "csharp"
    },
    "polyglot_notebook": {
     "kernelName": "csharp"
    },
    "vscode": {
     "languageId": "polyglot-notebook"
    }
   },
   "outputs": [],
   "source": [
    "var trainTestData = mlContext.Data.TrainTestSplit(fulldata, testFraction: 0.2);\n",
    "var trainData = trainTestData.TrainSet;\n",
    "var testData = trainTestData.TestSet;"
   ]
  },
  {
   "cell_type": "code",
   "execution_count": 176,
   "metadata": {
    "dotnet_interactive": {
     "language": "csharp"
    },
    "polyglot_notebook": {
     "kernelName": "csharp"
    },
    "vscode": {
     "languageId": "polyglot-notebook"
    }
   },
   "outputs": [
    {
     "data": {
      "text/html": [
       "<details open=\"open\" class=\"dni-treeview\"><summary><span class=\"dni-code-hint\"><code>Microsoft.ML.Transforms.ColumnSelectingTransformer+SelectColumnsDataTransform</code></span></summary><div><table><thead><tr></tr></thead><tbody><tr><td>CanShuffle</td><td><div class=\"dni-plaintext\"><pre>False</pre></div></td></tr><tr><td>Source</td><td><details class=\"dni-treeview\"><summary><span class=\"dni-code-hint\"><code>Microsoft.ML.Transforms.RangeFilter</code></span></summary><div><table><thead><tr></tr></thead><tbody><tr><td>OutputSchema</td><td><table><thead><tr><th><i>index</i></th><th>value</th></tr></thead><tbody><tr><td>0</td><td><details class=\"dni-treeview\"><summary><span class=\"dni-code-hint\"><code>Label: Int32</code></span></summary><div><table><thead><tr></tr></thead><tbody><tr><td>Name</td><td>Label</td></tr><tr><td>Index</td><td><div class=\"dni-plaintext\"><pre>0</pre></div></td></tr><tr><td>IsHidden</td><td><div class=\"dni-plaintext\"><pre>False</pre></div></td></tr><tr><td>Type</td><td><details class=\"dni-treeview\"><summary><span class=\"dni-code-hint\"><code>Int32</code></span></summary><div><table><thead><tr></tr></thead><tbody><tr><td>RawType</td><td><span><a href=\"https://docs.microsoft.com/dotnet/api/system.int32?view=net-7.0\">System.Int32</a></span></td></tr></tbody></table></div></details></td></tr><tr><td>Annotations</td><td><details class=\"dni-treeview\"><summary><span class=\"dni-code-hint\"><code></code></span></summary><div><table><thead><tr></tr></thead><tbody><tr><td>Schema</td><td><i>(empty)</i></td></tr></tbody></table></div></details></td></tr></tbody></table></div></details></td></tr><tr><td>1</td><td><details class=\"dni-treeview\"><summary><span class=\"dni-code-hint\"><code>Text: String</code></span></summary><div><table><thead><tr></tr></thead><tbody><tr><td>Name</td><td>Text</td></tr><tr><td>Index</td><td><div class=\"dni-plaintext\"><pre>1</pre></div></td></tr><tr><td>IsHidden</td><td><div class=\"dni-plaintext\"><pre>False</pre></div></td></tr><tr><td>Type</td><td><details class=\"dni-treeview\"><summary><span class=\"dni-code-hint\"><code>String</code></span></summary><div><table><thead><tr></tr></thead><tbody><tr><td>RawType</td><td><span><a href=\"https://docs.microsoft.com/dotnet/api/system.readonlymemory-1?view=net-7.0\">System.ReadOnlyMemory&lt;System.Char&gt;</a></span></td></tr></tbody></table></div></details></td></tr><tr><td>Annotations</td><td><details class=\"dni-treeview\"><summary><span class=\"dni-code-hint\"><code></code></span></summary><div><table><thead><tr></tr></thead><tbody><tr><td>Schema</td><td><i>(empty)</i></td></tr></tbody></table></div></details></td></tr></tbody></table></div></details></td></tr><tr><td>2</td><td><details class=\"dni-treeview\"><summary><span class=\"dni-code-hint\"><code>SplitColumn: Single {IsNormalized}</code></span></summary><div><table><thead><tr></tr></thead><tbody><tr><td>Name</td><td>SplitColumn</td></tr><tr><td>Index</td><td><div class=\"dni-plaintext\"><pre>2</pre></div></td></tr><tr><td>IsHidden</td><td><div class=\"dni-plaintext\"><pre>False</pre></div></td></tr><tr><td>Type</td><td><details class=\"dni-treeview\"><summary><span class=\"dni-code-hint\"><code>Single</code></span></summary><div><table><thead><tr></tr></thead><tbody><tr><td>RawType</td><td><span><a href=\"https://docs.microsoft.com/dotnet/api/system.single?view=net-7.0\">System.Single</a></span></td></tr></tbody></table></div></details></td></tr><tr><td>Annotations</td><td><details class=\"dni-treeview\"><summary><span class=\"dni-code-hint\"><code>IsNormalized</code></span></summary><div><table><thead><tr></tr></thead><tbody><tr><td>Schema</td><td><table><thead><tr><th><i>index</i></th><th>value</th></tr></thead><tbody><tr><td>0</td><td>IsNormalized: Boolean</td></tr></tbody></table></td></tr></tbody></table></div></details></td></tr></tbody></table></div></details></td></tr></tbody></table></td></tr><tr><td>Source</td><td><details class=\"dni-treeview\"><summary><span class=\"dni-code-hint\"><code>Microsoft.ML.Transforms.GenerateNumberTransform</code></span></summary><div><table><thead><tr></tr></thead><tbody><tr><td>OutputSchema</td><td><table><thead><tr><th><i>index</i></th><th>value</th></tr></thead><tbody><tr><td>0</td><td><details class=\"dni-treeview\"><summary><span class=\"dni-code-hint\"><code>Label: Int32</code></span></summary><div><table><thead><tr></tr></thead><tbody><tr><td>Name</td><td>Label</td></tr><tr><td>Index</td><td><div class=\"dni-plaintext\"><pre>0</pre></div></td></tr><tr><td>IsHidden</td><td><div class=\"dni-plaintext\"><pre>False</pre></div></td></tr><tr><td>Type</td><td><details class=\"dni-treeview\"><summary><span class=\"dni-code-hint\"><code>Int32</code></span></summary><div><table><thead><tr></tr></thead><tbody><tr><td>RawType</td><td>System.Int32</td></tr></tbody></table></div></details></td></tr><tr><td>Annotations</td><td><details class=\"dni-treeview\"><summary><span class=\"dni-code-hint\"><code></code></span></summary><div><table><thead><tr></tr></thead><tbody><tr><td>Schema</td><td>[  ]</td></tr></tbody></table></div></details></td></tr></tbody></table></div></details></td></tr><tr><td>1</td><td><details class=\"dni-treeview\"><summary><span class=\"dni-code-hint\"><code>Text: String</code></span></summary><div><table><thead><tr></tr></thead><tbody><tr><td>Name</td><td>Text</td></tr><tr><td>Index</td><td><div class=\"dni-plaintext\"><pre>1</pre></div></td></tr><tr><td>IsHidden</td><td><div class=\"dni-plaintext\"><pre>False</pre></div></td></tr><tr><td>Type</td><td><details class=\"dni-treeview\"><summary><span class=\"dni-code-hint\"><code>String</code></span></summary><div><table><thead><tr></tr></thead><tbody><tr><td>RawType</td><td>System.ReadOnlyMemory`1[System.Char]</td></tr></tbody></table></div></details></td></tr><tr><td>Annotations</td><td><details class=\"dni-treeview\"><summary><span class=\"dni-code-hint\"><code></code></span></summary><div><table><thead><tr></tr></thead><tbody><tr><td>Schema</td><td>[  ]</td></tr></tbody></table></div></details></td></tr></tbody></table></div></details></td></tr><tr><td>2</td><td><details class=\"dni-treeview\"><summary><span class=\"dni-code-hint\"><code>SplitColumn: Single {IsNormalized}</code></span></summary><div><table><thead><tr></tr></thead><tbody><tr><td>Name</td><td>SplitColumn</td></tr><tr><td>Index</td><td><div class=\"dni-plaintext\"><pre>2</pre></div></td></tr><tr><td>IsHidden</td><td><div class=\"dni-plaintext\"><pre>False</pre></div></td></tr><tr><td>Type</td><td><details class=\"dni-treeview\"><summary><span class=\"dni-code-hint\"><code>Single</code></span></summary><div><table><thead><tr></tr></thead><tbody><tr><td>RawType</td><td>System.Single</td></tr></tbody></table></div></details></td></tr><tr><td>Annotations</td><td><details class=\"dni-treeview\"><summary><span class=\"dni-code-hint\"><code>IsNormalized</code></span></summary><div><table><thead><tr></tr></thead><tbody><tr><td>Schema</td><td>[ IsNormalized: Boolean ]</td></tr></tbody></table></div></details></td></tr></tbody></table></div></details></td></tr></tbody></table></td></tr><tr><td>CanShuffle</td><td><div class=\"dni-plaintext\"><pre>False</pre></div></td></tr><tr><td>Source</td><td><details class=\"dni-treeview\"><summary><span class=\"dni-code-hint\"><code>Microsoft.ML.Data.TextLoader+BoundLoader</code></span></summary><div><table><thead><tr></tr></thead><tbody><tr><td>CanShuffle</td><td><div class=\"dni-plaintext\"><pre>False</pre></div></td></tr><tr><td>Schema</td><td><table><thead><tr><th><i>index</i></th><th>value</th></tr></thead><tbody><tr><td>0</td><td><details class=\"dni-treeview\"><summary><span class=\"dni-code-hint\"><code>Label: Int32</code></span></summary><div><table><thead><tr></tr></thead><tbody><tr><td>Name</td><td>Label</td></tr><tr><td>Index</td><td>0</td></tr><tr><td>IsHidden</td><td>False</td></tr><tr><td>Type</td><td>Int32</td></tr><tr><td>Annotations</td><td></td></tr></tbody></table></div></details></td></tr><tr><td>1</td><td><details class=\"dni-treeview\"><summary><span class=\"dni-code-hint\"><code>Text: String</code></span></summary><div><table><thead><tr></tr></thead><tbody><tr><td>Name</td><td>Text</td></tr><tr><td>Index</td><td>1</td></tr><tr><td>IsHidden</td><td>False</td></tr><tr><td>Type</td><td>String</td></tr><tr><td>Annotations</td><td></td></tr></tbody></table></div></details></td></tr></tbody></table></td></tr></tbody></table></div></details></td></tr></tbody></table></div></details></td></tr><tr><td>CanShuffle</td><td><div class=\"dni-plaintext\"><pre>False</pre></div></td></tr></tbody></table></div></details></td></tr><tr><td>InputSchema</td><td><table><thead><tr><th><i>index</i></th><th>value</th></tr></thead><tbody><tr><td>0</td><td><details class=\"dni-treeview\"><summary><span class=\"dni-code-hint\"><code>Label: Int32</code></span></summary><div><table><thead><tr></tr></thead><tbody><tr><td>Name</td><td>Label</td></tr><tr><td>Index</td><td><div class=\"dni-plaintext\"><pre>0</pre></div></td></tr><tr><td>IsHidden</td><td><div class=\"dni-plaintext\"><pre>False</pre></div></td></tr><tr><td>Type</td><td><details class=\"dni-treeview\"><summary><span class=\"dni-code-hint\"><code>Int32</code></span></summary><div><table><thead><tr></tr></thead><tbody><tr><td>RawType</td><td><span><a href=\"https://docs.microsoft.com/dotnet/api/system.int32?view=net-7.0\">System.Int32</a></span></td></tr></tbody></table></div></details></td></tr><tr><td>Annotations</td><td><details class=\"dni-treeview\"><summary><span class=\"dni-code-hint\"><code></code></span></summary><div><table><thead><tr></tr></thead><tbody><tr><td>Schema</td><td><i>(empty)</i></td></tr></tbody></table></div></details></td></tr></tbody></table></div></details></td></tr><tr><td>1</td><td><details class=\"dni-treeview\"><summary><span class=\"dni-code-hint\"><code>Text: String</code></span></summary><div><table><thead><tr></tr></thead><tbody><tr><td>Name</td><td>Text</td></tr><tr><td>Index</td><td><div class=\"dni-plaintext\"><pre>1</pre></div></td></tr><tr><td>IsHidden</td><td><div class=\"dni-plaintext\"><pre>False</pre></div></td></tr><tr><td>Type</td><td><details class=\"dni-treeview\"><summary><span class=\"dni-code-hint\"><code>String</code></span></summary><div><table><thead><tr></tr></thead><tbody><tr><td>RawType</td><td><span><a href=\"https://docs.microsoft.com/dotnet/api/system.readonlymemory-1?view=net-7.0\">System.ReadOnlyMemory&lt;System.Char&gt;</a></span></td></tr></tbody></table></div></details></td></tr><tr><td>Annotations</td><td><details class=\"dni-treeview\"><summary><span class=\"dni-code-hint\"><code></code></span></summary><div><table><thead><tr></tr></thead><tbody><tr><td>Schema</td><td><i>(empty)</i></td></tr></tbody></table></div></details></td></tr></tbody></table></div></details></td></tr><tr><td>2</td><td><details class=\"dni-treeview\"><summary><span class=\"dni-code-hint\"><code>SplitColumn: Single {IsNormalized}</code></span></summary><div><table><thead><tr></tr></thead><tbody><tr><td>Name</td><td>SplitColumn</td></tr><tr><td>Index</td><td><div class=\"dni-plaintext\"><pre>2</pre></div></td></tr><tr><td>IsHidden</td><td><div class=\"dni-plaintext\"><pre>False</pre></div></td></tr><tr><td>Type</td><td><details class=\"dni-treeview\"><summary><span class=\"dni-code-hint\"><code>Single</code></span></summary><div><table><thead><tr></tr></thead><tbody><tr><td>RawType</td><td><span><a href=\"https://docs.microsoft.com/dotnet/api/system.single?view=net-7.0\">System.Single</a></span></td></tr></tbody></table></div></details></td></tr><tr><td>Annotations</td><td><details class=\"dni-treeview\"><summary><span class=\"dni-code-hint\"><code>IsNormalized</code></span></summary><div><table><thead><tr></tr></thead><tbody><tr><td>Schema</td><td><table><thead><tr><th><i>index</i></th><th>value</th></tr></thead><tbody><tr><td>0</td><td><details class=\"dni-treeview\"><summary><span class=\"dni-code-hint\"><code>IsNormalized: Boolean</code></span></summary><div><table><thead><tr></tr></thead><tbody><tr><td>Name</td><td>IsNormalized</td></tr><tr><td>Index</td><td>0</td></tr><tr><td>IsHidden</td><td>False</td></tr><tr><td>Type</td><td>Boolean</td></tr><tr><td>Annotations</td><td></td></tr></tbody></table></div></details></td></tr></tbody></table></td></tr></tbody></table></div></details></td></tr></tbody></table></div></details></td></tr></tbody></table></td></tr><tr><td>OutputSchema</td><td><table><thead><tr><th><i>index</i></th><th>value</th></tr></thead><tbody><tr><td>0</td><td><details class=\"dni-treeview\"><summary><span class=\"dni-code-hint\"><code>Label: Int32</code></span></summary><div><table><thead><tr></tr></thead><tbody><tr><td>Name</td><td>Label</td></tr><tr><td>Index</td><td><div class=\"dni-plaintext\"><pre>0</pre></div></td></tr><tr><td>IsHidden</td><td><div class=\"dni-plaintext\"><pre>False</pre></div></td></tr><tr><td>Type</td><td><details class=\"dni-treeview\"><summary><span class=\"dni-code-hint\"><code>Int32</code></span></summary><div><table><thead><tr></tr></thead><tbody><tr><td>RawType</td><td><span><a href=\"https://docs.microsoft.com/dotnet/api/system.int32?view=net-7.0\">System.Int32</a></span></td></tr></tbody></table></div></details></td></tr><tr><td>Annotations</td><td><details class=\"dni-treeview\"><summary><span class=\"dni-code-hint\"><code></code></span></summary><div><table><thead><tr></tr></thead><tbody><tr><td>Schema</td><td><i>(empty)</i></td></tr></tbody></table></div></details></td></tr></tbody></table></div></details></td></tr><tr><td>1</td><td><details class=\"dni-treeview\"><summary><span class=\"dni-code-hint\"><code>Text: String</code></span></summary><div><table><thead><tr></tr></thead><tbody><tr><td>Name</td><td>Text</td></tr><tr><td>Index</td><td><div class=\"dni-plaintext\"><pre>1</pre></div></td></tr><tr><td>IsHidden</td><td><div class=\"dni-plaintext\"><pre>False</pre></div></td></tr><tr><td>Type</td><td><details class=\"dni-treeview\"><summary><span class=\"dni-code-hint\"><code>String</code></span></summary><div><table><thead><tr></tr></thead><tbody><tr><td>RawType</td><td><span><a href=\"https://docs.microsoft.com/dotnet/api/system.readonlymemory-1?view=net-7.0\">System.ReadOnlyMemory&lt;System.Char&gt;</a></span></td></tr></tbody></table></div></details></td></tr><tr><td>Annotations</td><td><details class=\"dni-treeview\"><summary><span class=\"dni-code-hint\"><code></code></span></summary><div><table><thead><tr></tr></thead><tbody><tr><td>Schema</td><td><i>(empty)</i></td></tr></tbody></table></div></details></td></tr></tbody></table></div></details></td></tr></tbody></table></td></tr></tbody></table></div></details><style>\r\n",
       ".dni-code-hint {\r\n",
       "    font-style: italic;\r\n",
       "    overflow: hidden;\r\n",
       "    white-space: nowrap;\r\n",
       "}\r\n",
       ".dni-treeview {\r\n",
       "    white-space: nowrap;\r\n",
       "}\r\n",
       ".dni-treeview td {\r\n",
       "    vertical-align: top;\r\n",
       "    text-align: start;\r\n",
       "}\r\n",
       "details.dni-treeview {\r\n",
       "    padding-left: 1em;\r\n",
       "}\r\n",
       "table td {\r\n",
       "    text-align: start;\r\n",
       "}\r\n",
       "table tr { \r\n",
       "    vertical-align: top; \r\n",
       "    margin: 0em 0px;\r\n",
       "}\r\n",
       "table tr td pre \r\n",
       "{ \r\n",
       "    vertical-align: top !important; \r\n",
       "    margin: 0em 0px !important;\r\n",
       "} \r\n",
       "table th {\r\n",
       "    text-align: start;\r\n",
       "}\r\n",
       "</style>"
      ]
     },
     "metadata": {},
     "output_type": "display_data"
    }
   ],
   "source": [
    "trainData"
   ]
  },
  {
   "cell_type": "code",
   "execution_count": 177,
   "metadata": {
    "dotnet_interactive": {
     "language": "csharp"
    },
    "polyglot_notebook": {
     "kernelName": "csharp"
    },
    "vscode": {
     "languageId": "polyglot-notebook"
    }
   },
   "outputs": [],
   "source": [
    "\n",
    "var trainingPipeline = mlContext.Transforms.CustomMapping<JiebaLambdaInput, JiebaLambdaOutput>(mapAction: JiebaLambda.MyAction, contractName: \"JiebaLambda\")\n",
    "               .Append(mlContext.Transforms.Text.FeaturizeText(\"Features\", \"JiebaText\"))\n",
    "               .Append(mlContext.Transforms.Conversion.MapValueToKey(outputColumnName: \"LabelKey\", inputColumnName: \"Label\"))\n",
    "               .Append(mlContext.MulticlassClassification.Trainers.SdcaMaximumEntropy(\"LabelKey\", \"Features\"))\n",
    "               .Append(mlContext.Transforms.Conversion.MapKeyToValue(\"PredictedLabel\"));;\n",
    "\n",
    "                "
   ]
  },
  {
   "cell_type": "code",
   "execution_count": 178,
   "metadata": {
    "dotnet_interactive": {
     "language": "csharp"
    },
    "polyglot_notebook": {
     "kernelName": "csharp"
    },
    "vscode": {
     "languageId": "polyglot-notebook"
    }
   },
   "outputs": [],
   "source": [
    "ITransformer trainedModel = trainingPipeline.Fit(trainData);"
   ]
  },
  {
   "cell_type": "code",
   "execution_count": 179,
   "metadata": {
    "dotnet_interactive": {
     "language": "csharp"
    },
    "polyglot_notebook": {
     "kernelName": "csharp"
    },
    "vscode": {
     "languageId": "polyglot-notebook"
    }
   },
   "outputs": [],
   "source": [
    "    public class PredictionResult : Question\n",
    "    {\n",
    "        \n",
    "        public string JiebaText { get; set; }\n",
    "        public float[] Features { get; set; }\n",
    "\n",
    "        public int PredictedLabel;\n",
    "        public float[] Score;\n",
    "        public float Probability;\n",
    "        public void PrintToConsole()\n",
    "        {\n",
    "            Console.WriteLine($\"JiebaText={JiebaText}\");\n",
    "            Console.WriteLine($\"PredictedLabel:{PredictedLabel},Score:{Score},Probability:{Probability}\");\n",
    "            Console.WriteLine($\"TextFeatures Length:{Features.Length}\");\n",
    "            if (Features != null)\n",
    "            {\n",
    "                foreach (var f in Features)\n",
    "                {\n",
    "                    Console.Write($\"{f},\");\n",
    "                }\n",
    "                Console.WriteLine();\n",
    "            }\n",
    "            Console.WriteLine();\n",
    "        }\n",
    "    }"
   ]
  },
  {
   "cell_type": "code",
   "execution_count": 180,
   "metadata": {
    "dotnet_interactive": {
     "language": "csharp"
    },
    "polyglot_notebook": {
     "kernelName": "csharp"
    },
    "vscode": {
     "languageId": "polyglot-notebook"
    }
   },
   "outputs": [],
   "source": [
    "var predEngine = mlContext.Model.CreatePredictionEngine<Question, PredictionResult>(trainedModel);"
   ]
  },
  {
   "cell_type": "code",
   "execution_count": 181,
   "metadata": {
    "dotnet_interactive": {
     "language": "csharp"
    },
    "polyglot_notebook": {
     "kernelName": "csharp"
    },
    "vscode": {
     "languageId": "polyglot-notebook"
    }
   },
   "outputs": [
    {
     "name": "stdout",
     "output_type": "stream",
     "text": [
      "氣溫多少:1\n"
     ]
    }
   ],
   "source": [
    "\n",
    "Question sampleStatement1 = new Question { Text = \"氣溫多少\" };\n",
    "var predictionresult1 = predEngine.Predict(sampleStatement1);\n",
    "Console.WriteLine($\"{sampleStatement1.Text}:{predictionresult1.PredictedLabel}\");"
   ]
  },
  {
   "cell_type": "code",
   "execution_count": 182,
   "metadata": {
    "dotnet_interactive": {
     "language": "csharp"
    },
    "polyglot_notebook": {
     "kernelName": "csharp"
    },
    "vscode": {
     "languageId": "polyglot-notebook"
    }
   },
   "outputs": [
    {
     "name": "stdout",
     "output_type": "stream",
     "text": [
      "什麼是新能源車:0\n"
     ]
    }
   ],
   "source": [
    "Question sampleStatement2 = new Question { Text = \"什麼是新能源車\" };\n",
    "var predictionresult2 = predEngine.Predict(sampleStatement2);\n",
    "Console.WriteLine($\"{sampleStatement2.Text}:{predictionresult2.PredictedLabel}\");"
   ]
  },
  {
   "cell_type": "code",
   "execution_count": 183,
   "metadata": {
    "dotnet_interactive": {
     "language": "csharp"
    },
    "polyglot_notebook": {
     "kernelName": "csharp"
    },
    "vscode": {
     "languageId": "polyglot-notebook"
    }
   },
   "outputs": [
    {
     "name": "stdout",
     "output_type": "stream",
     "text": [
      "課程講什麼:0\n"
     ]
    }
   ],
   "source": [
    "Question sampleStatement2 = new Question { Text = \"課程講什麼\" };\n",
    "var predictionresult2 = predEngine.Predict(sampleStatement2);\n",
    "Console.WriteLine($\"{sampleStatement2.Text}:{predictionresult2.PredictedLabel}\");"
   ]
  }
 ],
 "metadata": {
  "language_info": {
   "name": "python"
  },
  "orig_nbformat": 4
 },
 "nbformat": 4,
 "nbformat_minor": 2
}

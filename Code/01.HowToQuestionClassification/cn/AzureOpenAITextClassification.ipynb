{
 "cells": [
  {
   "cell_type": "code",
   "execution_count": 1,
   "metadata": {
    "dotnet_interactive": {
     "language": "csharp"
    },
    "polyglot_notebook": {
     "kernelName": "csharp"
    },
    "vscode": {
     "languageId": "polyglot-notebook"
    }
   },
   "outputs": [
    {
     "data": {
      "text/html": [
       "<div><div></div><div></div><div><strong>Installed Packages</strong><ul><li><span>Azure.AI.OpenAI, 1.0.0-beta.5</span></li></ul></div></div>"
      ]
     },
     "metadata": {},
     "output_type": "display_data"
    }
   ],
   "source": [
    "#r \"nuget: Azure.AI.OpenAI , 1.0.0-beta.5 \""
   ]
  },
  {
   "cell_type": "code",
   "execution_count": 2,
   "metadata": {
    "dotnet_interactive": {
     "language": "csharp"
    },
    "polyglot_notebook": {
     "kernelName": "csharp"
    },
    "vscode": {
     "languageId": "polyglot-notebook"
    }
   },
   "outputs": [],
   "source": [
    "using Azure;\n",
    "using Azure.AI.OpenAI;"
   ]
  },
  {
   "cell_type": "code",
   "execution_count": 3,
   "metadata": {
    "dotnet_interactive": {
     "language": "csharp"
    },
    "polyglot_notebook": {
     "kernelName": "csharp"
    },
    "vscode": {
     "languageId": "polyglot-notebook"
    }
   },
   "outputs": [],
   "source": [
    "OpenAIClient client = new OpenAIClient(\n",
    "\tnew Uri(\"Your AOAI API Endpoint\"),\n",
    "\tnew AzureKeyCredential(\"Your AOAI API Key\"));"
   ]
  },
  {
   "cell_type": "code",
   "execution_count": 4,
   "metadata": {
    "dotnet_interactive": {
     "language": "csharp"
    },
    "polyglot_notebook": {
     "kernelName": "csharp"
    },
    "vscode": {
     "languageId": "polyglot-notebook"
    }
   },
   "outputs": [],
   "source": [
    "string prompt = \"请帮我针对问题进行分类，包括天气，课程，生成式\\n\\n问: 会下雨吗？ 类别:天气\\n问: 今天温度？ 类别:天气\\n问: 湿度多少？ 类别:天气\\n问: 什么是新能源车？ 类别: 课程\\n问: 新能源车的特点？ 类别: 课程\\n问: 概念是什么？ 类别: 课程\\n问: 写一首诗歌？ 类别: 生成式\\n问: 翻译一下 类别: 生成式\\n问: 计算结果 类别: 生成式\\n\";"
   ]
  },
  {
   "cell_type": "code",
   "execution_count": 5,
   "metadata": {
    "dotnet_interactive": {
     "language": "csharp"
    },
    "polyglot_notebook": {
     "kernelName": "csharp"
    },
    "vscode": {
     "languageId": "polyglot-notebook"
    }
   },
   "outputs": [],
   "source": [
    "string ask = \"问: 会下雨吗？ 类别:\";"
   ]
  },
  {
   "cell_type": "code",
   "execution_count": 6,
   "metadata": {
    "dotnet_interactive": {
     "language": "csharp"
    },
    "polyglot_notebook": {
     "kernelName": "csharp"
    },
    "vscode": {
     "languageId": "polyglot-notebook"
    }
   },
   "outputs": [],
   "source": [
    "Response<Completions> completionsResponse = await client.GetCompletionsAsync(\n",
    "\tdeploymentOrModelName: \"GPT3Model\",\n",
    "\tnew CompletionsOptions()\n",
    "\t{\n",
    "\t\tPrompts = {prompt+ask},\n",
    "\t\tMaxTokens = 60,\n",
    "\t\tNucleusSamplingFactor = (float)1,\n",
    "\t\tFrequencyPenalty = (float)0,\n",
    "\t\tPresencePenalty = (float)0,\n",
    "\t\tGenerationSampleCount = 1,\n",
    "\t});"
   ]
  },
  {
   "cell_type": "code",
   "execution_count": 7,
   "metadata": {
    "dotnet_interactive": {
     "language": "csharp"
    },
    "polyglot_notebook": {
     "kernelName": "csharp"
    },
    "vscode": {
     "languageId": "polyglot-notebook"
    }
   },
   "outputs": [],
   "source": [
    "Completions completions = completionsResponse.Value;"
   ]
  },
  {
   "cell_type": "code",
   "execution_count": 8,
   "metadata": {
    "dotnet_interactive": {
     "language": "csharp"
    },
    "polyglot_notebook": {
     "kernelName": "csharp"
    },
    "vscode": {
     "languageId": "polyglot-notebook"
    }
   },
   "outputs": [
    {
     "data": {
      "text/html": [
       "<details open=\"open\" class=\"dni-treeview\"><summary><span class=\"dni-code-hint\"><code>Azure.AI.OpenAI.Completions</code></span></summary><div><table><thead><tr></tr></thead><tbody><tr><td>Id</td><td>cmpl-7ayZ1dxRrlUrOAyPvkbtx8uWT9LoX</td></tr><tr><td>Created</td><td><div class=\"dni-plaintext\"><pre>1689046971</pre></div></td></tr><tr><td>Model</td><td>text-davinci-003</td></tr><tr><td>Choices</td><td><table><thead><tr><th><i>index</i></th><th>value</th></tr></thead><tbody><tr><td>0</td><td><details class=\"dni-treeview\"><summary><span class=\"dni-code-hint\"><code>Azure.AI.OpenAI.Choice</code></span></summary><div><table><thead><tr></tr></thead><tbody><tr><td>Text</td><td>天气</td></tr><tr><td>Index</td><td><div class=\"dni-plaintext\"><pre>0</pre></div></td></tr><tr><td>Logprobs</td><td><div class=\"dni-plaintext\"><pre>&lt;null&gt;</pre></div></td></tr><tr><td>FinishReason</td><td>stop</td></tr></tbody></table></div></details></td></tr></tbody></table></td></tr><tr><td>Usage</td><td><details class=\"dni-treeview\"><summary><span class=\"dni-code-hint\"><code>Azure.AI.OpenAI.CompletionsUsage</code></span></summary><div><table><thead><tr></tr></thead><tbody><tr><td>CompletionTokens</td><td><div class=\"dni-plaintext\"><pre>3</pre></div></td></tr><tr><td>PromptTokens</td><td><div class=\"dni-plaintext\"><pre>335</pre></div></td></tr><tr><td>TotalTokens</td><td><div class=\"dni-plaintext\"><pre>338</pre></div></td></tr></tbody></table></div></details></td></tr></tbody></table></div></details><style>\r\n",
       ".dni-code-hint {\r\n",
       "    font-style: italic;\r\n",
       "    overflow: hidden;\r\n",
       "    white-space: nowrap;\r\n",
       "}\r\n",
       ".dni-treeview {\r\n",
       "    white-space: nowrap;\r\n",
       "}\r\n",
       ".dni-treeview td {\r\n",
       "    vertical-align: top;\r\n",
       "    text-align: start;\r\n",
       "}\r\n",
       "details.dni-treeview {\r\n",
       "    padding-left: 1em;\r\n",
       "}\r\n",
       "table td {\r\n",
       "    text-align: start;\r\n",
       "}\r\n",
       "table tr { \r\n",
       "    vertical-align: top; \r\n",
       "    margin: 0em 0px;\r\n",
       "}\r\n",
       "table tr td pre \r\n",
       "{ \r\n",
       "    vertical-align: top !important; \r\n",
       "    margin: 0em 0px !important;\r\n",
       "} \r\n",
       "table th {\r\n",
       "    text-align: start;\r\n",
       "}\r\n",
       "</style>"
      ]
     },
     "metadata": {},
     "output_type": "display_data"
    }
   ],
   "source": [
    "completions"
   ]
  },
  {
   "cell_type": "code",
   "execution_count": 9,
   "metadata": {
    "dotnet_interactive": {
     "language": "csharp"
    },
    "polyglot_notebook": {
     "kernelName": "csharp"
    },
    "vscode": {
     "languageId": "polyglot-notebook"
    }
   },
   "outputs": [
    {
     "data": {
      "text/plain": [
       "天气"
      ]
     },
     "metadata": {},
     "output_type": "display_data"
    }
   ],
   "source": [
    "completions.Choices[0].Text"
   ]
  }
 ],
 "metadata": {
  "language_info": {
   "name": "python"
  },
  "orig_nbformat": 4
 },
 "nbformat": 4,
 "nbformat_minor": 2
}

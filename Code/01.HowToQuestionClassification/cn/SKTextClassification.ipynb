{
 "cells": [
  {
   "cell_type": "code",
   "execution_count": 1,
   "metadata": {
    "dotnet_interactive": {
     "language": "csharp"
    },
    "polyglot_notebook": {
     "kernelName": "csharp"
    },
    "vscode": {
     "languageId": "polyglot-notebook"
    }
   },
   "outputs": [
    {
     "data": {
      "text/html": [
       "<div><div></div><div></div><div><strong>Installed Packages</strong><ul><li><span>Microsoft.SemanticKernel, 1.0.0-beta3</span></li></ul></div></div>"
      ]
     },
     "metadata": {},
     "output_type": "display_data"
    }
   ],
   "source": [
    "#r \"nuget: Microsoft.SemanticKernel, *-*\""
   ]
  },
  {
   "cell_type": "code",
   "execution_count": 2,
   "metadata": {
    "dotnet_interactive": {
     "language": "csharp"
    },
    "polyglot_notebook": {
     "kernelName": "csharp"
    },
    "vscode": {
     "languageId": "polyglot-notebook"
    }
   },
   "outputs": [],
   "source": [
    "\n",
    "using Microsoft.SemanticKernel;\n",
    "using Microsoft.SemanticKernel.Connectors.AI.OpenAI;\n",
    "using Microsoft.SemanticKernel.Plugins.Core;\n",
    "using Microsoft.SemanticKernel.TemplateEngine.Basic;\n",
    "using System.Collections.Generic;\n",
    "using System.Threading.Tasks;"
   ]
  },
  {
   "cell_type": "code",
   "execution_count": 3,
   "metadata": {
    "dotnet_interactive": {
     "language": "csharp"
    },
    "polyglot_notebook": {
     "kernelName": "csharp"
    },
    "vscode": {
     "languageId": "polyglot-notebook"
    }
   },
   "outputs": [],
   "source": [
    "IKernel kernel = new KernelBuilder().WithAzureChatCompletionService(\"GPT3Model\", \"Your Azure OpenAI Service Endpoint\", \"Your Azure OpenAI Service API Key\").Build();            "
   ]
  },
  {
   "cell_type": "code",
   "execution_count": 4,
   "metadata": {
    "dotnet_interactive": {
     "language": "csharp"
    },
    "polyglot_notebook": {
     "kernelName": "csharp"
    },
    "vscode": {
     "languageId": "polyglot-notebook"
    }
   },
   "outputs": [],
   "source": [
    "string skPrompt = \"\"\"\n",
    "\n",
    "请帮我把 {{$input}} 进行分类，类型包括天气，课程，生成式，如果不清楚，请回答不确认，参考如下：\n",
    "\n",
    "问: 会下雨吗？ 类别:天气\n",
    "问: 今天温度？ 类别:天气\n",
    "问: 适度多少？ 类别:天气\n",
    "问: 什么是新能源车？ 类别: 课程\n",
    "问: 电动车的特点 类别: 课程\n",
    "问: 概念是什么？ 类别: 课程\n",
    "问: 课程相关的内容有哪些？ 类别: 课程\n",
    "问: 写一首诗歌？ 类别: 生成式\n",
    "问: 翻译一下 类别: 生成式\n",
    "问: 计算结果 类别: 生成式\n",
    "\n",
    "天气输出 1 ， 课程输出 2 ， 生成式输出 3 ，不确认输出 0，并参考以下格式输出\n",
    "\n",
    "{\"\"question\"\":\"\"{{$input}}\"\",\"\"label\"\":\"\"{{$label}}\"\"}\n",
    "\n",
    "\"\"\";"
   ]
  },
  {
   "cell_type": "code",
   "execution_count": 5,
   "metadata": {
    "dotnet_interactive": {
     "language": "csharp"
    },
    "polyglot_notebook": {
     "kernelName": "csharp"
    },
    "vscode": {
     "languageId": "polyglot-notebook"
    }
   },
   "outputs": [],
   "source": [
    "\n",
    "var promptRenderer = new BasicPromptTemplateEngine();\n",
    "var renderPrompt = await promptRenderer.RenderAsync(skPrompt, kernel.CreateNewContext());"
   ]
  },
  {
   "cell_type": "code",
   "execution_count": 6,
   "metadata": {
    "dotnet_interactive": {
     "language": "csharp"
    },
    "polyglot_notebook": {
     "kernelName": "csharp"
    },
    "vscode": {
     "languageId": "polyglot-notebook"
    }
   },
   "outputs": [
    {
     "data": {
      "text/plain": [
       "\n",
       "请帮我把  进行分类，类型包括天气，课程，生成式，如果不清楚，请回答不确认，参考如下：\n",
       "\n",
       "问: 会下雨吗？ 类别:天气\n",
       "问: 今天温度？ 类别:天气\n",
       "问: 适度多少？ 类别:天气\n",
       "问: 什么是新能源车？ 类别: 课程\n",
       "问: 电动车的特点 类别: 课程\n",
       "问: 概念是什么？ 类别: 课程\n",
       "问: 课程相关的内容有哪些？ 类别: 课程\n",
       "问: 写一首诗歌？ 类别: 生成式\n",
       "问: 翻译一下 类别: 生成式\n",
       "问: 计算结果 类别: 生成式\n",
       "\n",
       "天气输出 1 ， 课程输出 2 ， 生成式输出 3 ，不确认输出 0，并参考以下格式输出\n",
       "\n",
       "{\"\"question\"\":\"\"\"\",\"\"label\"\":\"\"\"\"}\n"
      ]
     },
     "metadata": {},
     "output_type": "display_data"
    }
   ],
   "source": [
    "renderPrompt"
   ]
  },
  {
   "cell_type": "code",
   "execution_count": 7,
   "metadata": {
    "dotnet_interactive": {
     "language": "csharp"
    },
    "polyglot_notebook": {
     "kernelName": "csharp"
    },
    "vscode": {
     "languageId": "polyglot-notebook"
    }
   },
   "outputs": [],
   "source": [
    "var classificationFunction = kernel.CreateSemanticFunction(skPrompt, requestSettings: new OpenAIRequestSettings{ MaxTokens = 60, FrequencyPenalty = (float)0, PresencePenalty = (float)0 }) ; \n"
   ]
  },
  {
   "cell_type": "code",
   "execution_count": 8,
   "metadata": {
    "dotnet_interactive": {
     "language": "csharp"
    },
    "polyglot_notebook": {
     "kernelName": "csharp"
    },
    "vscode": {
     "languageId": "polyglot-notebook"
    }
   },
   "outputs": [],
   "source": [
    "var input = \"今天广州天气怎么样？\";"
   ]
  },
  {
   "cell_type": "code",
   "execution_count": 9,
   "metadata": {
    "dotnet_interactive": {
     "language": "csharp"
    },
    "polyglot_notebook": {
     "kernelName": "csharp"
    },
    "vscode": {
     "languageId": "polyglot-notebook"
    }
   },
   "outputs": [
    {
     "name": "stdout",
     "output_type": "stream",
     "text": [
      "{\"question\":\"今天广州天气怎么样？\",\"label\":\"1\"}\n"
     ]
    }
   ],
   "source": [
    "var classification = await kernel.RunAsync(input, classificationFunction);\n",
    "\n",
    "Console.WriteLine(classification);"
   ]
  }
 ],
 "metadata": {
  "language_info": {
   "name": "csharp"
  },
  "orig_nbformat": 4
 },
 "nbformat": 4,
 "nbformat_minor": 2
}

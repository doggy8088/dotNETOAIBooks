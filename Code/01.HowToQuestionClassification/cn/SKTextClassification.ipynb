{
 "cells": [
  {
   "cell_type": "code",
   "execution_count": 1,
   "metadata": {
    "dotnet_interactive": {
     "language": "csharp"
    },
    "polyglot_notebook": {
     "kernelName": "csharp"
    },
    "vscode": {
     "languageId": "polyglot-notebook"
    }
   },
   "outputs": [
    {
     "data": {
      "text/html": [
       "<div><div></div><div></div><div><strong>Installed Packages</strong><ul><li><span>Microsoft.SemanticKernel, 1.0.0-beta3</span></li></ul></div></div>"
      ]
     },
     "metadata": {},
     "output_type": "display_data"
    }
   ],
   "source": [
    "#r \"nuget: Microsoft.SemanticKernel, *-*\""
   ]
  },
  {
   "cell_type": "code",
   "execution_count": 2,
   "metadata": {
    "dotnet_interactive": {
     "language": "csharp"
    },
    "polyglot_notebook": {
     "kernelName": "csharp"
    },
    "vscode": {
     "languageId": "polyglot-notebook"
    }
   },
   "outputs": [],
   "source": [
    "\n",
    "using Microsoft.SemanticKernel;\n",
    "using Microsoft.SemanticKernel.Connectors.AI.OpenAI;\n",
    "using Microsoft.SemanticKernel.Plugins.Core;\n",
    "using Microsoft.SemanticKernel.TemplateEngine.Basic;\n",
    "using System.Collections.Generic;\n",
    "using System.Threading.Tasks;"
   ]
  },
  {
   "cell_type": "code",
   "execution_count": 3,
   "metadata": {
    "dotnet_interactive": {
     "language": "csharp"
    },
    "polyglot_notebook": {
     "kernelName": "csharp"
    },
    "vscode": {
     "languageId": "polyglot-notebook"
    }
   },
   "outputs": [],
   "source": [
    "IKernel kernel = new KernelBuilder().WithAzureChatCompletionService(\"GPT3Model\", \"Your Azure OpenAI Service Endpoint\", \"Your Azure OpenAI Service API Key\").Build();            "
   ]
  },
  {
   "cell_type": "code",
   "execution_count": 4,
   "metadata": {
    "dotnet_interactive": {
     "language": "csharp"
    },
    "polyglot_notebook": {
     "kernelName": "csharp"
    },
    "vscode": {
     "languageId": "polyglot-notebook"
    }
   },
   "outputs": [],
   "source": [
    "string skPrompt = \"\"\"\n",
    "\n",
    "請幫我把 {{$input}} 進行分類，型別包括天氣，課程，生成式，如果不清楚，請回答不確認，參考如下：\n",
    "\n",
    "問: 會下雨嗎？ 類別:天氣\n",
    "問: 今天溫度？ 類別:天氣\n",
    "問: 適度多少？ 類別:天氣\n",
    "問: 什麼是新能源車？ 類別: 課程\n",
    "問: 電動車的特點 類別: 課程\n",
    "問: 概念是什麼？ 類別: 課程\n",
    "問: 課程相關的內容有哪些？ 類別: 課程\n",
    "問: 寫一首詩歌？ 類別: 生成式\n",
    "問: 翻譯一下 類別: 生成式\n",
    "問: 計算結果 類別: 生成式\n",
    "\n",
    "天氣輸出 1 ， 課程輸出 2 ， 生成式輸出 3 ，不確認輸出 0，並參考以下格式輸出\n",
    "\n",
    "{\"\"question\"\":\"\"{{$input}}\"\",\"\"label\"\":\"\"{{$label}}\"\"}\n",
    "\n",
    "\"\"\";"
   ]
  },
  {
   "cell_type": "code",
   "execution_count": 5,
   "metadata": {
    "dotnet_interactive": {
     "language": "csharp"
    },
    "polyglot_notebook": {
     "kernelName": "csharp"
    },
    "vscode": {
     "languageId": "polyglot-notebook"
    }
   },
   "outputs": [],
   "source": [
    "\n",
    "var promptRenderer = new BasicPromptTemplateEngine();\n",
    "var renderPrompt = await promptRenderer.RenderAsync(skPrompt, kernel.CreateNewContext());"
   ]
  },
  {
   "cell_type": "code",
   "execution_count": 6,
   "metadata": {
    "dotnet_interactive": {
     "language": "csharp"
    },
    "polyglot_notebook": {
     "kernelName": "csharp"
    },
    "vscode": {
     "languageId": "polyglot-notebook"
    }
   },
   "outputs": [
    {
     "data": {
      "text/plain": [
       "\n",
       "請幫我把  進行分類，型別包括天氣，課程，生成式，如果不清楚，請回答不確認，參考如下：\n",
       "\n",
       "問: 會下雨嗎？ 類別:天氣\n",
       "問: 今天溫度？ 類別:天氣\n",
       "問: 適度多少？ 類別:天氣\n",
       "問: 什麼是新能源車？ 類別: 課程\n",
       "問: 電動車的特點 類別: 課程\n",
       "問: 概念是什麼？ 類別: 課程\n",
       "問: 課程相關的內容有哪些？ 類別: 課程\n",
       "問: 寫一首詩歌？ 類別: 生成式\n",
       "問: 翻譯一下 類別: 生成式\n",
       "問: 計算結果 類別: 生成式\n",
       "\n",
       "天氣輸出 1 ， 課程輸出 2 ， 生成式輸出 3 ，不確認輸出 0，並參考以下格式輸出\n",
       "\n",
       "{\"\"question\"\":\"\"\"\",\"\"label\"\":\"\"\"\"}\n"
      ]
     },
     "metadata": {},
     "output_type": "display_data"
    }
   ],
   "source": [
    "renderPrompt"
   ]
  },
  {
   "cell_type": "code",
   "execution_count": 7,
   "metadata": {
    "dotnet_interactive": {
     "language": "csharp"
    },
    "polyglot_notebook": {
     "kernelName": "csharp"
    },
    "vscode": {
     "languageId": "polyglot-notebook"
    }
   },
   "outputs": [],
   "source": [
    "var classificationFunction = kernel.CreateSemanticFunction(skPrompt, requestSettings: new OpenAIRequestSettings{ MaxTokens = 60, FrequencyPenalty = (float)0, PresencePenalty = (float)0 }) ; \n"
   ]
  },
  {
   "cell_type": "code",
   "execution_count": 8,
   "metadata": {
    "dotnet_interactive": {
     "language": "csharp"
    },
    "polyglot_notebook": {
     "kernelName": "csharp"
    },
    "vscode": {
     "languageId": "polyglot-notebook"
    }
   },
   "outputs": [],
   "source": [
    "var input = \"今天廣州天氣怎麼樣？\";"
   ]
  },
  {
   "cell_type": "code",
   "execution_count": 9,
   "metadata": {
    "dotnet_interactive": {
     "language": "csharp"
    },
    "polyglot_notebook": {
     "kernelName": "csharp"
    },
    "vscode": {
     "languageId": "polyglot-notebook"
    }
   },
   "outputs": [
    {
     "name": "stdout",
     "output_type": "stream",
     "text": [
      "{\"question\":\"今天廣州天氣怎麼樣？\",\"label\":\"1\"}\n"
     ]
    }
   ],
   "source": [
    "var classification = await kernel.RunAsync(input, classificationFunction);\n",
    "\n",
    "Console.WriteLine(classification);"
   ]
  }
 ],
 "metadata": {
  "language_info": {
   "name": "csharp"
  },
  "orig_nbformat": 4
 },
 "nbformat": 4,
 "nbformat_minor": 2
}

{
 "cells": [
  {
   "cell_type": "code",
   "execution_count": 1,
   "metadata": {
    "dotnet_interactive": {
     "language": "csharp"
    },
    "polyglot_notebook": {
     "kernelName": "csharp"
    },
    "vscode": {
     "languageId": "polyglot-notebook"
    }
   },
   "outputs": [
    {
     "data": {
      "text/html": [
       "<div><div></div><div></div><div><strong>Installed Packages</strong><ul><li><span>Microsoft.SemanticKernel, 0.17.230704.3-preview</span></li></ul></div></div>"
      ]
     },
     "metadata": {},
     "output_type": "display_data"
    }
   ],
   "source": [
    "#r \"nuget: Microsoft.SemanticKernel, *-*\""
   ]
  },
  {
   "cell_type": "code",
   "execution_count": 2,
   "metadata": {
    "dotnet_interactive": {
     "language": "csharp"
    },
    "polyglot_notebook": {
     "kernelName": "csharp"
    },
    "vscode": {
     "languageId": "polyglot-notebook"
    }
   },
   "outputs": [],
   "source": [
    "using Microsoft.SemanticKernel;\n",
    "using Microsoft.SemanticKernel.SemanticFunctions;\n",
    "using Microsoft.SemanticKernel.SkillDefinition;\n",
    "using Microsoft.SemanticKernel.TemplateEngine;\n",
    "using System.Collections.Generic;\n",
    "using System.Threading.Tasks;"
   ]
  },
  {
   "cell_type": "code",
   "execution_count": 3,
   "metadata": {
    "dotnet_interactive": {
     "language": "csharp"
    },
    "polyglot_notebook": {
     "kernelName": "csharp"
    },
    "vscode": {
     "languageId": "polyglot-notebook"
    }
   },
   "outputs": [],
   "source": [
    "\n",
    "IKernel kernel = Kernel.Builder.WithAzureTextCompletionService(\"GPT3Model\", \"Your AOAI API Endpoint\", \"Your AOAI API Key\").Build();\n",
    "            "
   ]
  },
  {
   "cell_type": "code",
   "execution_count": 4,
   "metadata": {
    "dotnet_interactive": {
     "language": "csharp"
    },
    "polyglot_notebook": {
     "kernelName": "csharp"
    },
    "vscode": {
     "languageId": "polyglot-notebook"
    }
   },
   "outputs": [],
   "source": [
    "string skPrompt = \"\"\"\n",
    "\n",
    "請幫我把 {{$input}} 進行分類，型別包括天氣，課程，產生式，如果不清楚，請回答不確認，參考如下：\n",
    "\n",
    "問: 會下雨嗎？ 類別:天氣\n",
    "問: 今天溫度？ 類別:天氣\n",
    "問: 適度多少？ 類別:天氣\n",
    "問: 什麼是新能源車？ 類別: 課程\n",
    "問: 電動車的特點 類別: 課程\n",
    "問: 概念是什麼？ 類別: 課程\n",
    "問: 課程相關的內容有哪些？ 類別: 課程\n",
    "問: 寫一首詩歌？ 類別: 產生式\n",
    "問: 翻譯一下 類別: 產生式\n",
    "問: 計算結果 類別: 產生式\n",
    "\n",
    "天氣輸出 1 ， 課程輸出 2 ， 產生式輸出 3 ，不確認輸出 0，並參考以下格式輸出\n",
    "\n",
    "{\"\"question\"\":\"\"{{$input}}\"\",\"\"label\"\":\"\"{{$label}}\"\"}\n",
    "\n",
    "\"\"\";"
   ]
  },
  {
   "cell_type": "code",
   "execution_count": 5,
   "metadata": {
    "dotnet_interactive": {
     "language": "csharp"
    },
    "polyglot_notebook": {
     "kernelName": "csharp"
    },
    "vscode": {
     "languageId": "polyglot-notebook"
    }
   },
   "outputs": [],
   "source": [
    "var promptConfig = new PromptTemplateConfig\n",
    "{\n",
    "    Completion =\n",
    "    {\n",
    "      MaxTokens = 60,\n",
    "      FrequencyPenalty = (float)0,\n",
    "      PresencePenalty = (float)0\n",
    "    }\n",
    "};"
   ]
  },
  {
   "cell_type": "code",
   "execution_count": 6,
   "metadata": {
    "dotnet_interactive": {
     "language": "csharp"
    },
    "polyglot_notebook": {
     "kernelName": "csharp"
    },
    "vscode": {
     "languageId": "polyglot-notebook"
    }
   },
   "outputs": [],
   "source": [
    "var promptTemplate = new PromptTemplate(\n",
    "    skPrompt,                        // Prompt template defined in natural language\n",
    "    promptConfig,                    // Prompt configuration\n",
    "    kernel                           // SK instance\n",
    ");"
   ]
  },
  {
   "cell_type": "code",
   "execution_count": 7,
   "metadata": {
    "dotnet_interactive": {
     "language": "csharp"
    },
    "polyglot_notebook": {
     "kernelName": "csharp"
    },
    "vscode": {
     "languageId": "polyglot-notebook"
    }
   },
   "outputs": [
    {
     "data": {
      "text/plain": [
       "\n",
       "請幫我把 {{$input}} 進行分類，型別包括天氣，課程，產生式，如果不清楚，請回答不確認，參考如下：\n",
       "\n",
       "問: 會下雨嗎？ 類別:天氣\n",
       "問: 今天溫度？ 類別:天氣\n",
       "問: 適度多少？ 類別:天氣\n",
       "問: 什麼是新能源車？ 類別: 課程\n",
       "問: 電動車的特點 類別: 課程\n",
       "問: 概念是什麼？ 類別: 課程\n",
       "問: 課程相關的內容有哪些？ 類別: 課程\n",
       "問: 寫一首詩歌？ 類別: 產生式\n",
       "問: 翻譯一下 類別: 產生式\n",
       "問: 計算結果 類別: 產生式\n",
       "\n",
       "天氣輸出 1 ， 課程輸出 2 ， 產生式輸出 3 ，不確認輸出 0，並參考以下格式輸出\n",
       "\n",
       "{\"\"question\"\":\"\"{{$input}}\"\",\"\"label\"\":\"\"{{$label}}\"\"}\n"
      ]
     },
     "metadata": {},
     "output_type": "display_data"
    }
   ],
   "source": [
    "skPrompt"
   ]
  },
  {
   "cell_type": "code",
   "execution_count": 8,
   "metadata": {
    "dotnet_interactive": {
     "language": "csharp"
    },
    "polyglot_notebook": {
     "kernelName": "csharp"
    },
    "vscode": {
     "languageId": "polyglot-notebook"
    }
   },
   "outputs": [],
   "source": [
    "\n",
    "var functionConfig = new SemanticFunctionConfig(promptConfig, promptTemplate);"
   ]
  },
  {
   "cell_type": "code",
   "execution_count": 9,
   "metadata": {
    "dotnet_interactive": {
     "language": "csharp"
    },
    "polyglot_notebook": {
     "kernelName": "csharp"
    },
    "vscode": {
     "languageId": "polyglot-notebook"
    }
   },
   "outputs": [],
   "source": [
    "var classificationFunction = kernel.RegisterSemanticFunction(\"QASkill\", \"QuestionClassification\", functionConfig);"
   ]
  },
  {
   "cell_type": "code",
   "execution_count": 10,
   "metadata": {
    "dotnet_interactive": {
     "language": "csharp"
    },
    "polyglot_notebook": {
     "kernelName": "csharp"
    },
    "vscode": {
     "languageId": "polyglot-notebook"
    }
   },
   "outputs": [
    {
     "data": {
      "text/html": [
       "<details open=\"open\" class=\"dni-treeview\"><summary><span class=\"dni-code-hint\"><code>{\"Name\":\"QuestionClassification\",\"SkillName\":\"QASkill\",\"Description\":\"\",\"IsSemantic\":true,\"IsSensitive\":false,\"TrustServiceInstance\":{},\"RequestSettings\":{\"Temperature\":0,\"TopP\":0,\"PresencePenalty\":0,\"FrequencyPenalty\":0,\"MaxTokens\":60,\"StopSequences\":[],\"ResultsPerPrompt\":1,\"ChatSystemPrompt\":\"Assi...</code></span></summary><div><table><thead><tr></tr></thead><tbody><tr><td>Name</td><td>QuestionClassification</td></tr><tr><td>SkillName</td><td>QASkill</td></tr><tr><td>Description</td><td></td></tr><tr><td>IsSemantic</td><td><div class=\"dni-plaintext\"><pre>True</pre></div></td></tr><tr><td>IsSensitive</td><td><div class=\"dni-plaintext\"><pre>False</pre></div></td></tr><tr><td>TrustServiceInstance</td><td><details class=\"dni-treeview\"><summary><span class=\"dni-code-hint\"><code>Microsoft.SemanticKernel.Security.TrustService</code></span></summary><div><table><thead><tr></tr></thead><tbody></tbody></table></div></details></td></tr><tr><td>RequestSettings</td><td><details class=\"dni-treeview\"><summary><span class=\"dni-code-hint\"><code>Microsoft.SemanticKernel.AI.TextCompletion.CompleteRequestSettings</code></span></summary><div><table><thead><tr></tr></thead><tbody><tr><td>Temperature</td><td><div class=\"dni-plaintext\"><pre>0</pre></div></td></tr><tr><td>TopP</td><td><div class=\"dni-plaintext\"><pre>0</pre></div></td></tr><tr><td>PresencePenalty</td><td><div class=\"dni-plaintext\"><pre>0</pre></div></td></tr><tr><td>FrequencyPenalty</td><td><div class=\"dni-plaintext\"><pre>0</pre></div></td></tr><tr><td>MaxTokens</td><td><div class=\"dni-plaintext\"><pre>60</pre></div></td></tr><tr><td>StopSequences</td><td></td></tr><tr><td>ResultsPerPrompt</td><td><div class=\"dni-plaintext\"><pre>1</pre></div></td></tr><tr><td>ChatSystemPrompt</td><td>Assistant is a large language model.</td></tr><tr><td>TokenSelectionBiases</td><td><i>(empty)</i></td></tr></tbody></table></div></details></td></tr><tr><td>Parameters</td><td><table><thead><tr><th><i>index</i></th><th>value</th></tr></thead><tbody><tr><td>0</td><td><details class=\"dni-treeview\"><summary><span class=\"dni-code-hint\"><code>Microsoft.SemanticKernel.SkillDefinition.ParameterView</code></span></summary><div><table><thead><tr></tr></thead><tbody><tr><td>Name</td><td>input</td></tr><tr><td>Description</td><td></td></tr><tr><td>DefaultValue</td><td></td></tr></tbody></table></div></details></td></tr><tr><td>1</td><td><details class=\"dni-treeview\"><summary><span class=\"dni-code-hint\"><code>Microsoft.SemanticKernel.SkillDefinition.ParameterView</code></span></summary><div><table><thead><tr></tr></thead><tbody><tr><td>Name</td><td>label</td></tr><tr><td>Description</td><td></td></tr><tr><td>DefaultValue</td><td></td></tr></tbody></table></div></details></td></tr></tbody></table></td></tr></tbody></table></div></details><style>\r\n",
       ".dni-code-hint {\r\n",
       "    font-style: italic;\r\n",
       "    overflow: hidden;\r\n",
       "    white-space: nowrap;\r\n",
       "}\r\n",
       ".dni-treeview {\r\n",
       "    white-space: nowrap;\r\n",
       "}\r\n",
       ".dni-treeview td {\r\n",
       "    vertical-align: top;\r\n",
       "    text-align: start;\r\n",
       "}\r\n",
       "details.dni-treeview {\r\n",
       "    padding-left: 1em;\r\n",
       "}\r\n",
       "table td {\r\n",
       "    text-align: start;\r\n",
       "}\r\n",
       "table tr { \r\n",
       "    vertical-align: top; \r\n",
       "    margin: 0em 0px;\r\n",
       "}\r\n",
       "table tr td pre \r\n",
       "{ \r\n",
       "    vertical-align: top !important; \r\n",
       "    margin: 0em 0px !important;\r\n",
       "} \r\n",
       "table th {\r\n",
       "    text-align: start;\r\n",
       "}\r\n",
       "</style>"
      ]
     },
     "metadata": {},
     "output_type": "display_data"
    }
   ],
   "source": [
    "classificationFunction\n"
   ]
  },
  {
   "cell_type": "code",
   "execution_count": 11,
   "metadata": {
    "dotnet_interactive": {
     "language": "csharp"
    },
    "polyglot_notebook": {
     "kernelName": "csharp"
    },
    "vscode": {
     "languageId": "polyglot-notebook"
    }
   },
   "outputs": [],
   "source": [
    "var input = \"今天廣州天氣怎麼樣？\";"
   ]
  },
  {
   "cell_type": "code",
   "execution_count": 12,
   "metadata": {
    "dotnet_interactive": {
     "language": "csharp"
    },
    "polyglot_notebook": {
     "kernelName": "csharp"
    },
    "vscode": {
     "languageId": "polyglot-notebook"
    }
   },
   "outputs": [
    {
     "name": "stdout",
     "output_type": "stream",
     "text": [
      "\n",
      "答案：{\"question\":\"今天廣州天氣怎麼樣？\",\"label\":\"1\"}\n"
     ]
    }
   ],
   "source": [
    "var classification = await kernel.RunAsync(input, classificationFunction);\n",
    "\n",
    "Console.WriteLine(classification);"
   ]
  }
 ],
 "metadata": {
  "language_info": {
   "name": "csharp"
  },
  "orig_nbformat": 4
 },
 "nbformat": 4,
 "nbformat_minor": 2
}

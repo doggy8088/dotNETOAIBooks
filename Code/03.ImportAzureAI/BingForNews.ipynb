{
 "cells": [
  {
   "cell_type": "code",
   "execution_count": 1,
   "metadata": {
    "dotnet_interactive": {
     "language": "csharp"
    },
    "polyglot_notebook": {
     "kernelName": "csharp"
    },
    "vscode": {
     "languageId": "polyglot-notebook"
    }
   },
   "outputs": [],
   "source": [
    "using System;\n",
    "using System.Net;\n",
    "using System.Net.Http;\n",
    "using System.Net.Http.Headers;\n",
    "using System.Threading.Tasks;\n",
    "using System.Text;\n",
    "using System.Text.Json;\n",
    "using System.IO;\n",
    "using System.Collections.Generic;"
   ]
  },
  {
   "cell_type": "code",
   "execution_count": 2,
   "metadata": {
    "dotnet_interactive": {
     "language": "csharp"
    },
    "polyglot_notebook": {
     "kernelName": "csharp"
    },
    "vscode": {
     "languageId": "polyglot-notebook"
    }
   },
   "outputs": [],
   "source": [
    "const string accessKey = \"Your API Key\";\n",
    "const string uriBase = \"Your API Endpoint\";\n",
    "const string searchTerm = \"chatgpt 支援外掛\";"
   ]
  },
  {
   "cell_type": "code",
   "execution_count": 3,
   "metadata": {
    "dotnet_interactive": {
     "language": "csharp"
    },
    "polyglot_notebook": {
     "kernelName": "csharp"
    },
    "vscode": {
     "languageId": "polyglot-notebook"
    }
   },
   "outputs": [],
   "source": [
    "struct SearchResult\n",
    "{\n",
    "    public String jsonResult;\n",
    "    public Dictionary<String, String> relevantHeaders;\n",
    "}"
   ]
  },
  {
   "cell_type": "code",
   "execution_count": 4,
   "metadata": {
    "dotnet_interactive": {
     "language": "csharp"
    },
    "polyglot_notebook": {
     "kernelName": "csharp"
    },
    "vscode": {
     "languageId": "polyglot-notebook"
    }
   },
   "outputs": [],
   "source": [
    "var uriQuery = uriBase + \"?cc=CN&q=\" + Uri.EscapeDataString(searchTerm);\n",
    "WebRequest request = WebRequest.Create(uriQuery);\n",
    "request.Headers[\"Ocp-Apim-Subscription-Key\"] = accessKey;\n",
    "HttpWebResponse response = (HttpWebResponse)request.GetResponseAsync().Result;\n",
    "string json = new StreamReader(response.GetResponseStream()).ReadToEnd();"
   ]
  },
  {
   "cell_type": "code",
   "execution_count": 5,
   "metadata": {
    "dotnet_interactive": {
     "language": "csharp"
    },
    "polyglot_notebook": {
     "kernelName": "csharp"
    },
    "vscode": {
     "languageId": "polyglot-notebook"
    }
   },
   "outputs": [
    {
     "data": {
      "text/plain": [
       "{\"_type\": \"News\", \"readLink\": \"https:\\/\\/api.bing.microsoft.com\\/api\\/v7\\/news\\/search?q=chatgpt+%E6%94%AF%E6%8C%81%E6%8F%92%E4%BB%B6\", \"queryContext\": {\"originalQuery\": \"chatgpt 支援外掛\", \"adultIntent\": false}, \"totalEstimatedMatches\": 48, \"sort\": [{\"name\": \"最佳匹配\", \"id\": \"relevance\", \"isSelected\": true, \"url\": \"https:\\/\\/api.bing.microsoft.com\\/api\\/v7\\/news\\/search?q=chatgpt+%E6%94%AF%E6%8C%81%E6%8F%92%E4%BB%B6\"}, {\"name\": \"最新發布\", \"id\": \"date\", \"isSelected\": false, \"url\": \"https:\\/\\/api.bing.microsoft.com\\/api\\/v7\\/news\\/search?q=chatgpt+%E6%94%AF%E6%8C%81%E6%8F%92%E4%BB%B6&sortby=date\"}], \"value\": [{\"name\": \"ChatGPT又進化了：支援聯網外部外掛，甚至可以自己給自己寫外掛！\", \"url\": \"https:\\/\\/new.qq.com\\/rain\\/a\\/20230324A03ZL000\", \"description\": \"上週我們還在文章中說最近一陣子 AI 進化的太快了，科技行業一天，頂得上日常生活一年，這不，ChatGPT 又更新了： 它可以支援呼叫第三方外掛了。 根據官方的說法，開放外掛功能是為了更好地釋放 ChatGPT 的能力，解鎖更多的應用場景。 並且他們表示 ...\", \"provider\": [{\"_type\": \"Organization\", \"name\": \"騰訊網\"}], \"datePublished\": \"2023-03-24T12:48:00.0000000Z\", \"category\": \"ScienceAndTechnology\"}, {\"name\": \"OpenAI宣佈ChatGPT支援第三方外掛，不僅是可以聯網搜尋這麼簡單\", \"url\": \"https:\\/\\/www.thepaper.cn\\/newsDetail_forward_22435786\", \"description\": \"3月23日，OpenAI 官方宣佈，ChatGPT 可以聯網了。 當然，這只是冰山一角，更重要的是 OpenAI 為 ChatGPT 開放了第三方外掛功能，聯網只是其中的的一環。 這意味著，ChatGPT 不再僅僅是一個AI，很可能會成為一個全知全能的AI平台，這並不是誇張，因為它既擁有了整個 ...\", \"provider\": [{\"_type\": \"Organization\", \"name\": \"澎湃新聞\"}], \"datePublished\": \"2023-03-26T17:06:00.0000000Z\"}, {\"name\": \"ChatGPT全宇宙大爆炸！開啟聯網解除封印，無敵外掛徹底顛覆體驗\", \"url\": \"https:\\/\\/new.qq.com\\/rain\\/a\\/20230324A02OTJ00\", \"image\": {\"thumbnail\": {\"contentUrl\": \"https:\\/\\/www.bing.com\\/th?id=OVFT.M3hN5pkham9TKfFI2GJZTy&pid=News\", \"width\": 700, \"height\": 522}}, \"description\": \"【新智元導讀】 OpenAI冷不丁又宣佈了驚爆全球的訊息：ChatGPT可以整合第三方外掛了！唯一的封印解除後，ChatGPT儼然已經迎來了屬於自己的「全知全能」宇宙。網友直呼：AI的APP Store時刻已來！ 之前，大家都公認ChatGPT幾乎能上天入地，無所不能，唯一的缺點就是——不能聯網。因為它的訓練資料集截止到21年9月，所以它對於這以後世界的瞭解，還是一片空白。 OpenAI表示，新增\", \"provider\": [{\"_type\": \"Organization\", \"name\": \"騰訊網\", \"image\": {\"thumbnail\": {\"contentUrl\": \"https:\\/\\/www.bing.com\\/th?id=ODF.z5yLgSgBNRsE9jRkGGoXPg&pid=news\"}}}], \"datePublished\": \"2023-04-09T07:02:00.0000000Z\", \"category\": \"ScienceAndTechnology\"}, {\"name\": \"OpenAI宣佈ChatGPT支援第三方外掛，不僅是可以聯網搜尋這麼簡單\", \"url\": \"https:\\/\\/www.thepaper.cn\\/newsDetail_forward_22435786?commTag=true\", \"description\": \"3月23日，OpenAI 官方宣佈，ChatGPT 可以聯網了。 當然，這只是冰山一角，更重要的是 OpenAI 為 ChatGPT 開放了第三方外掛功能，聯網只是其中的的一環。 這意味著，ChatGPT 不再僅僅是一個AI，很可能會成為一個全知全能的AI平台，這並不是誇張，因為它既擁有了整個 ...\", \"provider\": [{\"_type\": \"Organization\", \"name\": \"澎湃新聞\"}], \"datePublished\": \"2023-03-26T11:41:00.0000000Z\", \"category\": \"ScienceAndTechnology\"}, {\"name\": \"能聯網還支援第三方外掛，ChatGPT插上了翅膀\", \"url\": \"https:\\/\\/www.sohu.com\\/a\\/659413686_121207965\", \"description\": \"能聯網還支援第三方外掛，ChatGPT插上了翅膀 在2023年的春季，ChatGPT無疑是整個網際網路世界中最耀眼的明星，甚至用上知天文、下知地理來形容它也絕不過分。但相信只要用過ChatGPT的朋友應該都知道，其實它的博學多才也是有限制的，其時間線幾乎被停在某一刻 ...\", \"provider\": [{\"_type\": \"Organization\", \"name\": \"搜狐\"}], \"datePublished\": \"2023-03-26T18:38:00.0000000Z\", \"category\": \"ScienceAndTechnology\"}, {\"name\": \"OpenAI宣佈ChatGPT支援第三方外掛，不僅是可以聯網搜尋這麼簡單\", \"url\": \"https:\\/\\/www.51cto.com\\/article\\/750127.html\", \"description\": \"“我認為 ChatGPT 外掛的引入對 App Store 是一個威脅。” ChatGPT這是準備一統江湖了。 3月23日，OpenAI 官方宣佈，ChatGPT 可以聯網了。 當然，這只是冰山一角，更重要的是 OpenAI 為 ChatGPT 開放了第三方外掛功能，聯網只是其中的的一環。 這意味著，ChatGPT 不再僅僅是 ...\", \"provider\": [{\"_type\": \"Organization\", \"name\": \"51CTO\"}], \"datePublished\": \"2023-03-24T16:31:00.0000000Z\"}, {\"name\": \"ChatGPT外掛釋出，關注有大模型研發能力以及垂直落地場景的標的\", \"url\": \"https:\\/\\/www.sohu.com\\/a\\/659575925_114984\", \"description\": \"ChatGPT外掛釋出，新生態加速建構——行業點評報告-20230326 1、ChatGPT初步實現外掛支援，首批包括11個第三方外掛 2023年3月23日，OpenAI發表部落格表示已在ChatGPT中實現了對外掛（plugins）的初步支援。外掛專為語言模型設計，在安全可控的原則下，支援ChatGPT存取最新 ...\", \"provider\": [{\"_type\": \"Organization\", \"name\": \"搜狐\"}], \"datePublished\": \"2023-03-27T08:59:00.0000000Z\", \"category\": \"ScienceAndTechnology\"}, {\"name\": \"ChatGPT：我終於可以聯網了\", \"url\": \"https:\\/\\/www.163.com\\/dy\\/article\\/I0JUNQKB0511A72B.html\", \"description\": \"3月24日，OpenAI再曝大動作，宣佈ChatGPT支援第三方外掛，也就是解除了其無法聯網的限制。 01、ChatGPT不會“滿嘴跑火車”了 此前，OpenAI的語言模型具有侷限性，因為其訓練的資料截至2021年9月，因此需依靠人工訓練資料獲取最新資訊。 谷歌推出的競品Bard便以“即時聯網”為優勢，谷歌曾表示：“與ChatGPT相比，Bard不僅基於文字和程式碼，並且有網際網路上的真實世界的資訊作\", \"provider\": [{\"_type\": \"Organization\", \"name\": \"網易\", \"image\": {\"thumbnail\": {\"contentUrl\": \"https:\\/\\/www.bing.com\\/th?id=ODF.pRQjNppdWgLiPgLb5-86wg&pid=news\"}}}], \"datePublished\": \"2023-03-24T08:04:00.0000000Z\", \"category\": \"ScienceAndTechnology\"}, {\"name\": \"ChatGPT：我終於可以聯網了\", \"url\": \"https:\\/\\/www.163.com\\/dy\\/article\\/I0JUNQKB0511A72B.html\", \"description\": \"3月24日，OpenAI再曝大動作，宣佈ChatGPT支援第三方外掛，也就是解除了其無法聯網的限制。 01、ChatGPT不會“滿嘴跑火車”了 此前，OpenAI的語言模型具有侷限性，因為其訓練的資料截至2021年9月，因此需依靠人工訓練資料獲取最新資訊。 谷歌推出的競品Bard便以 ...\", \"provider\": [{\"_type\": \"Organization\", \"name\": \"網易\"}], \"datePublished\": \"2023-03-24T16:05:00.0000000Z\", \"category\": \"ScienceAndTechnology\"}, {\"name\": \"OpenAI釋出ChatGPT外掛支援，官方文件譯文\", \"url\": \"https:\\/\\/www.36kr.com\\/p\\/2184870664651650\", \"description\": \"OpenAI釋出了ChatGPT的外掛支援，這些外掛是專為語言模型設計的工具，以安全性為核心原則。外掛可以幫助ChatGPT存取最新資訊、進行計算或使用第三 ...\", \"provider\": [{\"_type\": \"Organization\", \"name\": \"36氪\"}], \"datePublished\": \"2023-03-24T11:48:00.0000000Z\"}]}"
      ]
     },
     "metadata": {},
     "output_type": "display_data"
    }
   ],
   "source": [
    "json"
   ]
  },
  {
   "cell_type": "code",
   "execution_count": 6,
   "metadata": {
    "dotnet_interactive": {
     "language": "csharp"
    },
    "polyglot_notebook": {
     "kernelName": "csharp"
    },
    "vscode": {
     "languageId": "polyglot-notebook"
    }
   },
   "outputs": [],
   "source": [
    "public class News{\n",
    "    public string name {get;set;}\n",
    "    public string description {get;set;}\n",
    "}"
   ]
  },
  {
   "cell_type": "code",
   "execution_count": 9,
   "metadata": {
    "dotnet_interactive": {
     "language": "csharp"
    },
    "polyglot_notebook": {
     "kernelName": "csharp"
    },
    "vscode": {
     "languageId": "polyglot-notebook"
    }
   },
   "outputs": [],
   "source": [
    "var list = JsonDocument.Parse(json).RootElement.GetProperty(\"value\").EnumerateArray().ToList();"
   ]
  },
  {
   "cell_type": "code",
   "execution_count": 10,
   "metadata": {
    "dotnet_interactive": {
     "language": "csharp"
    },
    "polyglot_notebook": {
     "kernelName": "csharp"
    },
    "vscode": {
     "languageId": "polyglot-notebook"
    }
   },
   "outputs": [],
   "source": [
    "IList<News> newsList = new List<News>();\n",
    "\n",
    "foreach(var item in list.Take(10)){\n",
    "    var news = new News();\n",
    "    news.name = item.GetProperty(\"name\").ToString();\n",
    "    news.description = item.GetProperty(\"description\").ToString();\n",
    "    newsList.Add(news);\n",
    "}"
   ]
  },
  {
   "cell_type": "code",
   "execution_count": 11,
   "metadata": {
    "dotnet_interactive": {
     "language": "csharp"
    },
    "polyglot_notebook": {
     "kernelName": "csharp"
    },
    "vscode": {
     "languageId": "polyglot-notebook"
    }
   },
   "outputs": [
    {
     "data": {
      "text/html": [
       "<table><thead><tr><th><i>index</i></th><th>value</th></tr></thead><tbody><tr><td>0</td><td><details class=\"dni-treeview\"><summary><span class=\"dni-code-hint\"><code>Submission#7+News</code></span></summary><div><table><thead><tr></tr></thead><tbody><tr><td>name</td><td>ChatGPT又進化了：支援聯網外部外掛，甚至可以自己給自己寫外掛！</td></tr><tr><td>description</td><td>上週我們還在文章中說最近一陣子 AI 進化的太快了，科技行業一天，頂得上日常生活一年，這不，ChatGPT 又更新了： 它可以支援呼叫第三方外掛了。 根據官方的說法，開放外掛功能是為了更好地釋放 ChatGPT 的能力，解鎖更多的應用場景。 並且他們表示 ...</td></tr></tbody></table></div></details></td></tr><tr><td>1</td><td><details class=\"dni-treeview\"><summary><span class=\"dni-code-hint\"><code>Submission#7+News</code></span></summary><div><table><thead><tr></tr></thead><tbody><tr><td>name</td><td>OpenAI宣佈ChatGPT支援第三方外掛，不僅是可以聯網搜尋這麼簡單</td></tr><tr><td>description</td><td>3月23日，OpenAI 官方宣佈，ChatGPT 可以聯網了。 當然，這只是冰山一角，更重要的是 OpenAI 為 ChatGPT 開放了第三方外掛功能，聯網只是其中的的一環。 這意味著，ChatGPT 不再僅僅是一個AI，很可能會成為一個全知全能的AI平台，這並不是誇張，因為它既擁有了整個 ...</td></tr></tbody></table></div></details></td></tr><tr><td>2</td><td><details class=\"dni-treeview\"><summary><span class=\"dni-code-hint\"><code>Submission#7+News</code></span></summary><div><table><thead><tr></tr></thead><tbody><tr><td>name</td><td>ChatGPT全宇宙大爆炸！開啟聯網解除封印，無敵外掛徹底顛覆體驗</td></tr><tr><td>description</td><td>【新智元導讀】 OpenAI冷不丁又宣佈了驚爆全球的訊息：ChatGPT可以整合第三方外掛了！唯一的封印解除後，ChatGPT儼然已經迎來了屬於自己的「全知全能」宇宙。網友直呼：AI的APP Store時刻已來！ 之前，大家都公認ChatGPT幾乎能上天入地，無所不能，唯一的缺點就是——不能聯網。因為它的訓練資料集截止到21年9月，所以它對於這以後世界的瞭解，還是一片空白。 OpenAI表示，新增</td></tr></tbody></table></div></details></td></tr><tr><td>3</td><td><details class=\"dni-treeview\"><summary><span class=\"dni-code-hint\"><code>Submission#7+News</code></span></summary><div><table><thead><tr></tr></thead><tbody><tr><td>name</td><td>OpenAI宣佈ChatGPT支援第三方外掛，不僅是可以聯網搜尋這麼簡單</td></tr><tr><td>description</td><td>3月23日，OpenAI 官方宣佈，ChatGPT 可以聯網了。 當然，這只是冰山一角，更重要的是 OpenAI 為 ChatGPT 開放了第三方外掛功能，聯網只是其中的的一環。 這意味著，ChatGPT 不再僅僅是一個AI，很可能會成為一個全知全能的AI平台，這並不是誇張，因為它既擁有了整個 ...</td></tr></tbody></table></div></details></td></tr><tr><td>4</td><td><details class=\"dni-treeview\"><summary><span class=\"dni-code-hint\"><code>Submission#7+News</code></span></summary><div><table><thead><tr></tr></thead><tbody><tr><td>name</td><td>能聯網還支援第三方外掛，ChatGPT插上了翅膀</td></tr><tr><td>description</td><td>能聯網還支援第三方外掛，ChatGPT插上了翅膀 在2023年的春季，ChatGPT無疑是整個網際網路世界中最耀眼的明星，甚至用上知天文、下知地理來形容它也絕不過分。但相信只要用過ChatGPT的朋友應該都知道，其實它的博學多才也是有限制的，其時間線幾乎被停在某一刻 ...</td></tr></tbody></table></div></details></td></tr><tr><td>5</td><td><details class=\"dni-treeview\"><summary><span class=\"dni-code-hint\"><code>Submission#7+News</code></span></summary><div><table><thead><tr></tr></thead><tbody><tr><td>name</td><td>OpenAI宣佈ChatGPT支援第三方外掛，不僅是可以聯網搜尋這麼簡單</td></tr><tr><td>description</td><td>“我認為 ChatGPT 外掛的引入對 App Store 是一個威脅。” ChatGPT這是準備一統江湖了。 3月23日，OpenAI 官方宣佈，ChatGPT 可以聯網了。 當然，這只是冰山一角，更重要的是 OpenAI 為 ChatGPT 開放了第三方外掛功能，聯網只是其中的的一環。 這意味著，ChatGPT 不再僅僅是 ...</td></tr></tbody></table></div></details></td></tr><tr><td>6</td><td><details class=\"dni-treeview\"><summary><span class=\"dni-code-hint\"><code>Submission#7+News</code></span></summary><div><table><thead><tr></tr></thead><tbody><tr><td>name</td><td>ChatGPT外掛釋出，關注有大模型研發能力以及垂直落地場景的標的</td></tr><tr><td>description</td><td>ChatGPT外掛釋出，新生態加速建構——行業點評報告-20230326 1、ChatGPT初步實現外掛支援，首批包括11個第三方外掛 2023年3月23日，OpenAI發表部落格表示已在ChatGPT中實現了對外掛（plugins）的初步支援。外掛專為語言模型設計，在安全可控的原則下，支援ChatGPT存取最新 ...</td></tr></tbody></table></div></details></td></tr><tr><td>7</td><td><details class=\"dni-treeview\"><summary><span class=\"dni-code-hint\"><code>Submission#7+News</code></span></summary><div><table><thead><tr></tr></thead><tbody><tr><td>name</td><td>ChatGPT：我終於可以聯網了</td></tr><tr><td>description</td><td>3月24日，OpenAI再曝大動作，宣佈ChatGPT支援第三方外掛，也就是解除了其無法聯網的限制。 01、ChatGPT不會“滿嘴跑火車”了 此前，OpenAI的語言模型具有侷限性，因為其訓練的資料截至2021年9月，因此需依靠人工訓練資料獲取最新資訊。 谷歌推出的競品Bard便以“即時聯網”為優勢，谷歌曾表示：“與ChatGPT相比，Bard不僅基於文字和程式碼，並且有網際網路上的真實世界的資訊作</td></tr></tbody></table></div></details></td></tr><tr><td>8</td><td><details class=\"dni-treeview\"><summary><span class=\"dni-code-hint\"><code>Submission#7+News</code></span></summary><div><table><thead><tr></tr></thead><tbody><tr><td>name</td><td>ChatGPT：我終於可以聯網了</td></tr><tr><td>description</td><td>3月24日，OpenAI再曝大動作，宣佈ChatGPT支援第三方外掛，也就是解除了其無法聯網的限制。 01、ChatGPT不會“滿嘴跑火車”了 此前，OpenAI的語言模型具有侷限性，因為其訓練的資料截至2021年9月，因此需依靠人工訓練資料獲取最新資訊。 谷歌推出的競品Bard便以 ...</td></tr></tbody></table></div></details></td></tr><tr><td>9</td><td><details class=\"dni-treeview\"><summary><span class=\"dni-code-hint\"><code>Submission#7+News</code></span></summary><div><table><thead><tr></tr></thead><tbody><tr><td>name</td><td>OpenAI釋出ChatGPT外掛支援，官方文件譯文</td></tr><tr><td>description</td><td>OpenAI釋出了ChatGPT的外掛支援，這些外掛是專為語言模型設計的工具，以安全性為核心原則。外掛可以幫助ChatGPT存取最新資訊、進行計算或使用第三 ...</td></tr></tbody></table></div></details></td></tr></tbody></table><style>\r\n",
       ".dni-code-hint {\r\n",
       "    font-style: italic;\r\n",
       "    overflow: hidden;\r\n",
       "    white-space: nowrap;\r\n",
       "}\r\n",
       ".dni-treeview {\r\n",
       "    white-space: nowrap;\r\n",
       "}\r\n",
       ".dni-treeview td {\r\n",
       "    vertical-align: top;\r\n",
       "    text-align: start;\r\n",
       "}\r\n",
       "details.dni-treeview {\r\n",
       "    padding-left: 1em;\r\n",
       "}\r\n",
       "table td {\r\n",
       "    text-align: start;\r\n",
       "}\r\n",
       "table tr { \r\n",
       "    vertical-align: top; \r\n",
       "    margin: 0em 0px;\r\n",
       "}\r\n",
       "table tr td pre \r\n",
       "{ \r\n",
       "    vertical-align: top !important; \r\n",
       "    margin: 0em 0px !important;\r\n",
       "} \r\n",
       "table th {\r\n",
       "    text-align: start;\r\n",
       "}\r\n",
       "</style>"
      ]
     },
     "metadata": {},
     "output_type": "display_data"
    }
   ],
   "source": [
    "newsList"
   ]
  }
 ],
 "metadata": {
  "language_info": {
   "name": "python"
  },
  "orig_nbformat": 4
 },
 "nbformat": 4,
 "nbformat_minor": 2
}

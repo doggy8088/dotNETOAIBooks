{
 "cells": [
  {
   "cell_type": "code",
   "execution_count": 1,
   "metadata": {
    "dotnet_interactive": {
     "language": "csharp"
    },
    "polyglot_notebook": {
     "kernelName": "csharp"
    },
    "vscode": {
     "languageId": "polyglot-notebook"
    }
   },
   "outputs": [
    {
     "data": {
      "text/html": [
       "<div><div></div><div></div><div><strong>Installed Packages</strong><ul><li><span>Microsoft.SemanticKernel, 0.17.230704.3-preview</span></li></ul></div></div>"
      ]
     },
     "metadata": {},
     "output_type": "display_data"
    }
   ],
   "source": [
    "#r \"nuget: Microsoft.SemanticKernel, *-*\""
   ]
  },
  {
   "cell_type": "code",
   "execution_count": 2,
   "metadata": {
    "dotnet_interactive": {
     "language": "csharp"
    },
    "polyglot_notebook": {
     "kernelName": "csharp"
    },
    "vscode": {
     "languageId": "polyglot-notebook"
    }
   },
   "outputs": [],
   "source": [
    "#!import Skills/CustomSkill/CompanySearchSkill.cs"
   ]
  },
  {
   "cell_type": "code",
   "execution_count": 3,
   "metadata": {
    "dotnet_interactive": {
     "language": "csharp"
    },
    "polyglot_notebook": {
     "kernelName": "csharp"
    },
    "vscode": {
     "languageId": "polyglot-notebook"
    }
   },
   "outputs": [],
   "source": [
    "using Microsoft.SemanticKernel;;"
   ]
  },
  {
   "cell_type": "code",
   "execution_count": 4,
   "metadata": {
    "dotnet_interactive": {
     "language": "csharp"
    },
    "polyglot_notebook": {
     "kernelName": "csharp"
    },
    "vscode": {
     "languageId": "polyglot-notebook"
    }
   },
   "outputs": [],
   "source": [
    "\n",
    "// using Microsoft.SemanticKernel.CoreSkills;\n",
    "using Microsoft.SemanticKernel.Orchestration;\n",
    "using Microsoft.SemanticKernel.Planning;"
   ]
  },
  {
   "cell_type": "code",
   "execution_count": 5,
   "metadata": {
    "dotnet_interactive": {
     "language": "csharp"
    },
    "polyglot_notebook": {
     "kernelName": "csharp"
    },
    "vscode": {
     "languageId": "polyglot-notebook"
    }
   },
   "outputs": [],
   "source": [
    "IKernel kernel = Kernel.Builder.WithAzureTextCompletionService(\"GPT3Model\", \"Your AOAI API Endpoint\", \"Your AOAI API Key\").Build();"
   ]
  },
  {
   "cell_type": "code",
   "execution_count": 6,
   "metadata": {
    "dotnet_interactive": {
     "language": "csharp"
    },
    "polyglot_notebook": {
     "kernelName": "csharp"
    },
    "vscode": {
     "languageId": "polyglot-notebook"
    }
   },
   "outputs": [],
   "source": [
    "var planner = new SequentialPlanner(kernel);"
   ]
  },
  {
   "cell_type": "code",
   "execution_count": 7,
   "metadata": {
    "dotnet_interactive": {
     "language": "csharp"
    },
    "polyglot_notebook": {
     "kernelName": "csharp"
    },
    "vscode": {
     "languageId": "polyglot-notebook"
    }
   },
   "outputs": [],
   "source": [
    "// var planner = kernel.ImportSkill(new SequentialPlanner(kernel));"
   ]
  },
  {
   "cell_type": "code",
   "execution_count": 8,
   "metadata": {
    "dotnet_interactive": {
     "language": "csharp"
    },
    "polyglot_notebook": {
     "kernelName": "csharp"
    },
    "vscode": {
     "languageId": "polyglot-notebook"
    }
   },
   "outputs": [
    {
     "data": {
      "text/html": [
       "<details open=\"open\" class=\"dni-treeview\"><summary><span class=\"dni-code-hint\"><code>Microsoft.SemanticKernel.Planning.SequentialPlanner</code></span></summary><div><table><thead><tr></tr></thead><tbody></tbody></table></div></details><style>\r\n",
       ".dni-code-hint {\r\n",
       "    font-style: italic;\r\n",
       "    overflow: hidden;\r\n",
       "    white-space: nowrap;\r\n",
       "}\r\n",
       ".dni-treeview {\r\n",
       "    white-space: nowrap;\r\n",
       "}\r\n",
       ".dni-treeview td {\r\n",
       "    vertical-align: top;\r\n",
       "    text-align: start;\r\n",
       "}\r\n",
       "details.dni-treeview {\r\n",
       "    padding-left: 1em;\r\n",
       "}\r\n",
       "table td {\r\n",
       "    text-align: start;\r\n",
       "}\r\n",
       "table tr { \r\n",
       "    vertical-align: top; \r\n",
       "    margin: 0em 0px;\r\n",
       "}\r\n",
       "table tr td pre \r\n",
       "{ \r\n",
       "    vertical-align: top !important; \r\n",
       "    margin: 0em 0px !important;\r\n",
       "} \r\n",
       "table th {\r\n",
       "    text-align: start;\r\n",
       "}\r\n",
       "</style>"
      ]
     },
     "metadata": {},
     "output_type": "display_data"
    }
   ],
   "source": [
    "planner"
   ]
  },
  {
   "cell_type": "code",
   "execution_count": 9,
   "metadata": {
    "dotnet_interactive": {
     "language": "csharp"
    },
    "polyglot_notebook": {
     "kernelName": "csharp"
    },
    "vscode": {
     "languageId": "polyglot-notebook"
    }
   },
   "outputs": [],
   "source": [
    "\n",
    "CompanySearchSkill customSkill = new CompanySearchSkill();"
   ]
  },
  {
   "cell_type": "code",
   "execution_count": 10,
   "metadata": {
    "dotnet_interactive": {
     "language": "csharp"
    },
    "polyglot_notebook": {
     "kernelName": "csharp"
    },
    "vscode": {
     "languageId": "polyglot-notebook"
    }
   },
   "outputs": [],
   "source": [
    "var custom_skill = kernel.ImportSkill (customSkill, \"CustomSkill\");"
   ]
  },
  {
   "cell_type": "code",
   "execution_count": 11,
   "metadata": {
    "dotnet_interactive": {
     "language": "csharp"
    },
    "polyglot_notebook": {
     "kernelName": "csharp"
    },
    "vscode": {
     "languageId": "polyglot-notebook"
    }
   },
   "outputs": [],
   "source": [
    "var skillsDirectory =  System.IO.Directory.GetCurrentDirectory() + \"/Skills\";"
   ]
  },
  {
   "cell_type": "code",
   "execution_count": 12,
   "metadata": {
    "dotnet_interactive": {
     "language": "csharp"
    },
    "polyglot_notebook": {
     "kernelName": "csharp"
    },
    "vscode": {
     "languageId": "polyglot-notebook"
    }
   },
   "outputs": [],
   "source": [
    "var write_skill = kernel.ImportSemanticSkillFromDirectory(skillsDirectory,\"WriteSkill\");\n",
    "var email_skill = kernel.ImportSemanticSkillFromDirectory(skillsDirectory,\"EmailSkill\");"
   ]
  },
  {
   "cell_type": "code",
   "execution_count": 13,
   "metadata": {
    "dotnet_interactive": {
     "language": "csharp"
    },
    "polyglot_notebook": {
     "kernelName": "csharp"
    },
    "vscode": {
     "languageId": "polyglot-notebook"
    }
   },
   "outputs": [],
   "source": [
    "var plan = await planner.CreatePlanAsync(\"查找广州天气把结果翻译成中文后根据天气情况生成穿衣提示，并结合天气结果和穿衣提示写一封邮件\");\n",
    "// var ask = \"查找广州天气，把结果翻译成中文后根据天气情况生成穿衣提示，并结合天气结果和穿衣提示写一封邮件\";\n",
    "// var plan = await planner.CreatePlanAsync(ask);\n",
    "// var plan = await kernel.RunAsync(ask, planner[\"CreatePlan\"]);"
   ]
  },
  {
   "cell_type": "code",
   "execution_count": 14,
   "metadata": {
    "dotnet_interactive": {
     "language": "csharp"
    },
    "polyglot_notebook": {
     "kernelName": "csharp"
    },
    "vscode": {
     "languageId": "polyglot-notebook"
    }
   },
   "outputs": [
    {
     "data": {
      "text/html": [
       "<table><thead><tr><th><i>index</i></th><th>value</th></tr></thead><tbody><tr><td>0</td><td><details class=\"dni-treeview\"><summary><span class=\"dni-code-hint\"><code>Microsoft.SemanticKernel.Planning.Plan</code></span></summary><div><table><thead><tr></tr></thead><tbody><tr><td>State</td><td><table><thead><tr><th><i>key</i></th><th>value</th></tr></thead><tbody><tr><td>INPUT</td><td><details class=\"dni-treeview\"><summary><span class=\"dni-code-hint\"><code></code></span></summary><div><table><thead><tr></tr></thead><tbody><tr><td>Value</td><td></td></tr><tr><td>IsTrusted</td><td><div class=\"dni-plaintext\"><pre>True</pre></div></td></tr></tbody></table></div></details></td></tr></tbody></table></td></tr><tr><td>Steps</td><td></td></tr><tr><td>Parameters</td><td><table><thead><tr><th><i>key</i></th><th>value</th></tr></thead><tbody><tr><td>INPUT</td><td><details class=\"dni-treeview\"><summary><span class=\"dni-code-hint\"><code>Guangzhou</code></span></summary><div><table><thead><tr></tr></thead><tbody><tr><td>Value</td><td>Guangzhou</td></tr><tr><td>IsTrusted</td><td><div class=\"dni-plaintext\"><pre>True</pre></div></td></tr></tbody></table></div></details></td></tr></tbody></table></td></tr><tr><td>Outputs</td><td><div class=\"dni-plaintext\"><pre>[ EMPLOYEE_INFO ]</pre></div></td></tr><tr><td>HasNextStep</td><td><div class=\"dni-plaintext\"><pre>False</pre></div></td></tr><tr><td>NextStepIndex</td><td><div class=\"dni-plaintext\"><pre>0</pre></div></td></tr><tr><td>Name</td><td>EmployeeSearch</td></tr><tr><td>SkillName</td><td>CustomSkill</td></tr><tr><td>Description</td><td>search employee infomation</td></tr><tr><td>IsSemantic</td><td><div class=\"dni-plaintext\"><pre>False</pre></div></td></tr><tr><td>IsSensitive</td><td><div class=\"dni-plaintext\"><pre>False</pre></div></td></tr><tr><td>TrustServiceInstance</td><td><details class=\"dni-treeview\"><summary><span class=\"dni-code-hint\"><code>Microsoft.SemanticKernel.Security.TrustService</code></span></summary><div><table><thead><tr></tr></thead><tbody></tbody></table></div></details></td></tr><tr><td>RequestSettings</td><td><details class=\"dni-treeview\"><summary><span class=\"dni-code-hint\"><code>Microsoft.SemanticKernel.AI.TextCompletion.CompleteRequestSettings</code></span></summary><div><table><thead><tr></tr></thead><tbody><tr><td>Temperature</td><td><div class=\"dni-plaintext\"><pre>0</pre></div></td></tr><tr><td>TopP</td><td><div class=\"dni-plaintext\"><pre>0</pre></div></td></tr><tr><td>PresencePenalty</td><td><div class=\"dni-plaintext\"><pre>0</pre></div></td></tr><tr><td>FrequencyPenalty</td><td><div class=\"dni-plaintext\"><pre>0</pre></div></td></tr><tr><td>MaxTokens</td><td><div class=\"dni-plaintext\"><pre>256</pre></div></td></tr><tr><td>StopSequences</td><td></td></tr><tr><td>ResultsPerPrompt</td><td><div class=\"dni-plaintext\"><pre>1</pre></div></td></tr><tr><td>ChatSystemPrompt</td><td>Assistant is a large language model.</td></tr><tr><td>TokenSelectionBiases</td><td><i>(empty)</i></td></tr></tbody></table></div></details></td></tr></tbody></table></div></details></td></tr><tr><td>1</td><td><details class=\"dni-treeview\"><summary><span class=\"dni-code-hint\"><code>Microsoft.SemanticKernel.Planning.Plan</code></span></summary><div><table><thead><tr></tr></thead><tbody><tr><td>State</td><td><table><thead><tr><th><i>key</i></th><th>value</th></tr></thead><tbody><tr><td>INPUT</td><td><details class=\"dni-treeview\"><summary><span class=\"dni-code-hint\"><code></code></span></summary><div><table><thead><tr></tr></thead><tbody><tr><td>Value</td><td></td></tr><tr><td>IsTrusted</td><td><div class=\"dni-plaintext\"><pre>True</pre></div></td></tr></tbody></table></div></details></td></tr></tbody></table></td></tr><tr><td>Steps</td><td></td></tr><tr><td>Parameters</td><td><table><thead><tr><th><i>key</i></th><th>value</th></tr></thead><tbody><tr><td>INPUT</td><td><details class=\"dni-treeview\"><summary><span class=\"dni-code-hint\"><code></code></span></summary><div><table><thead><tr></tr></thead><tbody><tr><td>Value</td><td></td></tr><tr><td>IsTrusted</td><td><div class=\"dni-plaintext\"><pre>True</pre></div></td></tr></tbody></table></div></details></td></tr><tr><td>text</td><td><details class=\"dni-treeview\"><summary><span class=\"dni-code-hint\"><code>Guangzhou</code></span></summary><div><table><thead><tr></tr></thead><tbody><tr><td>Value</td><td>Guangzhou</td></tr><tr><td>IsTrusted</td><td><div class=\"dni-plaintext\"><pre>True</pre></div></td></tr></tbody></table></div></details></td></tr></tbody></table></td></tr><tr><td>Outputs</td><td><div class=\"dni-plaintext\"><pre>[ WEATHER_INFO ]</pre></div></td></tr><tr><td>HasNextStep</td><td><div class=\"dni-plaintext\"><pre>False</pre></div></td></tr><tr><td>NextStepIndex</td><td><div class=\"dni-plaintext\"><pre>0</pre></div></td></tr><tr><td>Name</td><td>WeatherSearch</td></tr><tr><td>SkillName</td><td>CustomSkill</td></tr><tr><td>Description</td><td>search weather</td></tr><tr><td>IsSemantic</td><td><div class=\"dni-plaintext\"><pre>False</pre></div></td></tr><tr><td>IsSensitive</td><td><div class=\"dni-plaintext\"><pre>False</pre></div></td></tr><tr><td>TrustServiceInstance</td><td><details class=\"dni-treeview\"><summary><span class=\"dni-code-hint\"><code>Microsoft.SemanticKernel.Security.TrustService</code></span></summary><div><table><thead><tr></tr></thead><tbody></tbody></table></div></details></td></tr><tr><td>RequestSettings</td><td><details class=\"dni-treeview\"><summary><span class=\"dni-code-hint\"><code>Microsoft.SemanticKernel.AI.TextCompletion.CompleteRequestSettings</code></span></summary><div><table><thead><tr></tr></thead><tbody><tr><td>Temperature</td><td><div class=\"dni-plaintext\"><pre>0</pre></div></td></tr><tr><td>TopP</td><td><div class=\"dni-plaintext\"><pre>0</pre></div></td></tr><tr><td>PresencePenalty</td><td><div class=\"dni-plaintext\"><pre>0</pre></div></td></tr><tr><td>FrequencyPenalty</td><td><div class=\"dni-plaintext\"><pre>0</pre></div></td></tr><tr><td>MaxTokens</td><td><div class=\"dni-plaintext\"><pre>256</pre></div></td></tr><tr><td>StopSequences</td><td></td></tr><tr><td>ResultsPerPrompt</td><td><div class=\"dni-plaintext\"><pre>1</pre></div></td></tr><tr><td>ChatSystemPrompt</td><td>Assistant is a large language model.</td></tr><tr><td>TokenSelectionBiases</td><td><i>(empty)</i></td></tr></tbody></table></div></details></td></tr></tbody></table></div></details></td></tr><tr><td>2</td><td><details class=\"dni-treeview\"><summary><span class=\"dni-code-hint\"><code>Microsoft.SemanticKernel.Planning.Plan</code></span></summary><div><table><thead><tr></tr></thead><tbody><tr><td>State</td><td><table><thead><tr><th><i>key</i></th><th>value</th></tr></thead><tbody><tr><td>INPUT</td><td><details class=\"dni-treeview\"><summary><span class=\"dni-code-hint\"><code></code></span></summary><div><table><thead><tr></tr></thead><tbody><tr><td>Value</td><td></td></tr><tr><td>IsTrusted</td><td><div class=\"dni-plaintext\"><pre>True</pre></div></td></tr></tbody></table></div></details></td></tr></tbody></table></td></tr><tr><td>Steps</td><td></td></tr><tr><td>Parameters</td><td><table><thead><tr><th><i>key</i></th><th>value</th></tr></thead><tbody><tr><td>INPUT</td><td><details class=\"dni-treeview\"><summary><span class=\"dni-code-hint\"><code>$WEATHER_INFO</code></span></summary><div><table><thead><tr></tr></thead><tbody><tr><td>Value</td><td>$WEATHER_INFO</td></tr><tr><td>IsTrusted</td><td><div class=\"dni-plaintext\"><pre>True</pre></div></td></tr></tbody></table></div></details></td></tr></tbody></table></td></tr><tr><td>Outputs</td><td><div class=\"dni-plaintext\"><pre>[ EMAIL_INFO ]</pre></div></td></tr><tr><td>HasNextStep</td><td><div class=\"dni-plaintext\"><pre>False</pre></div></td></tr><tr><td>NextStepIndex</td><td><div class=\"dni-plaintext\"><pre>0</pre></div></td></tr><tr><td>Name</td><td>WeatherMail</td></tr><tr><td>SkillName</td><td>EmailSkill</td></tr><tr><td>Description</td><td>Write an email about weather</td></tr><tr><td>IsSemantic</td><td><div class=\"dni-plaintext\"><pre>True</pre></div></td></tr><tr><td>IsSensitive</td><td><div class=\"dni-plaintext\"><pre>False</pre></div></td></tr><tr><td>TrustServiceInstance</td><td><details class=\"dni-treeview\"><summary><span class=\"dni-code-hint\"><code>Microsoft.SemanticKernel.Security.TrustService</code></span></summary><div><table><thead><tr></tr></thead><tbody></tbody></table></div></details></td></tr><tr><td>RequestSettings</td><td><details class=\"dni-treeview\"><summary><span class=\"dni-code-hint\"><code>Microsoft.SemanticKernel.AI.TextCompletion.CompleteRequestSettings</code></span></summary><div><table><thead><tr></tr></thead><tbody><tr><td>Temperature</td><td><div class=\"dni-plaintext\"><pre>0</pre></div></td></tr><tr><td>TopP</td><td><div class=\"dni-plaintext\"><pre>0</pre></div></td></tr><tr><td>PresencePenalty</td><td><div class=\"dni-plaintext\"><pre>0</pre></div></td></tr><tr><td>FrequencyPenalty</td><td><div class=\"dni-plaintext\"><pre>0</pre></div></td></tr><tr><td>MaxTokens</td><td><div class=\"dni-plaintext\"><pre>1024</pre></div></td></tr><tr><td>StopSequences</td><td></td></tr><tr><td>ResultsPerPrompt</td><td><div class=\"dni-plaintext\"><pre>1</pre></div></td></tr><tr><td>ChatSystemPrompt</td><td>Assistant is a large language model.</td></tr><tr><td>TokenSelectionBiases</td><td><i>(empty)</i></td></tr></tbody></table></div></details></td></tr></tbody></table></div></details></td></tr><tr><td>3</td><td><details class=\"dni-treeview\"><summary><span class=\"dni-code-hint\"><code>Microsoft.SemanticKernel.Planning.Plan</code></span></summary><div><table><thead><tr></tr></thead><tbody><tr><td>State</td><td><table><thead><tr><th><i>key</i></th><th>value</th></tr></thead><tbody><tr><td>INPUT</td><td><details class=\"dni-treeview\"><summary><span class=\"dni-code-hint\"><code></code></span></summary><div><table><thead><tr></tr></thead><tbody><tr><td>Value</td><td></td></tr><tr><td>IsTrusted</td><td><div class=\"dni-plaintext\"><pre>True</pre></div></td></tr></tbody></table></div></details></td></tr></tbody></table></td></tr><tr><td>Steps</td><td></td></tr><tr><td>Parameters</td><td><table><thead><tr><th><i>key</i></th><th>value</th></tr></thead><tbody><tr><td>label</td><td><details class=\"dni-treeview\"><summary><span class=\"dni-code-hint\"><code>weather</code></span></summary><div><table><thead><tr></tr></thead><tbody><tr><td>Value</td><td>weather</td></tr><tr><td>IsTrusted</td><td><div class=\"dni-plaintext\"><pre>True</pre></div></td></tr></tbody></table></div></details></td></tr><tr><td>INPUT</td><td><details class=\"dni-treeview\"><summary><span class=\"dni-code-hint\"><code>$WEATHER_INFO</code></span></summary><div><table><thead><tr></tr></thead><tbody><tr><td>Value</td><td>$WEATHER_INFO</td></tr><tr><td>IsTrusted</td><td><div class=\"dni-plaintext\"><pre>True</pre></div></td></tr></tbody></table></div></details></td></tr></tbody></table></td></tr><tr><td>Outputs</td><td><div class=\"dni-plaintext\"><pre>[ CLASSIFICATION_INFO ]</pre></div></td></tr><tr><td>HasNextStep</td><td><div class=\"dni-plaintext\"><pre>False</pre></div></td></tr><tr><td>NextStepIndex</td><td><div class=\"dni-plaintext\"><pre>0</pre></div></td></tr><tr><td>Name</td><td>Classification</td></tr><tr><td>SkillName</td><td>WriteSkill</td></tr><tr><td>Description</td><td>文本分类</td></tr><tr><td>IsSemantic</td><td><div class=\"dni-plaintext\"><pre>True</pre></div></td></tr><tr><td>IsSensitive</td><td><div class=\"dni-plaintext\"><pre>False</pre></div></td></tr><tr><td>TrustServiceInstance</td><td><details class=\"dni-treeview\"><summary><span class=\"dni-code-hint\"><code>Microsoft.SemanticKernel.Security.TrustService</code></span></summary><div><table><thead><tr></tr></thead><tbody></tbody></table></div></details></td></tr><tr><td>RequestSettings</td><td><details class=\"dni-treeview\"><summary><span class=\"dni-code-hint\"><code>Microsoft.SemanticKernel.AI.TextCompletion.CompleteRequestSettings</code></span></summary><div><table><thead><tr></tr></thead><tbody><tr><td>Temperature</td><td><div class=\"dni-plaintext\"><pre>0</pre></div></td></tr><tr><td>TopP</td><td><div class=\"dni-plaintext\"><pre>0</pre></div></td></tr><tr><td>PresencePenalty</td><td><div class=\"dni-plaintext\"><pre>0</pre></div></td></tr><tr><td>FrequencyPenalty</td><td><div class=\"dni-plaintext\"><pre>0</pre></div></td></tr><tr><td>MaxTokens</td><td><div class=\"dni-plaintext\"><pre>60</pre></div></td></tr><tr><td>StopSequences</td><td></td></tr><tr><td>ResultsPerPrompt</td><td><div class=\"dni-plaintext\"><pre>1</pre></div></td></tr><tr><td>ChatSystemPrompt</td><td>Assistant is a large language model.</td></tr><tr><td>TokenSelectionBiases</td><td><i>(empty)</i></td></tr></tbody></table></div></details></td></tr></tbody></table></div></details></td></tr><tr><td>4</td><td><details class=\"dni-treeview\"><summary><span class=\"dni-code-hint\"><code>Microsoft.SemanticKernel.Planning.Plan</code></span></summary><div><table><thead><tr></tr></thead><tbody><tr><td>State</td><td><table><thead><tr><th><i>key</i></th><th>value</th></tr></thead><tbody><tr><td>INPUT</td><td><details class=\"dni-treeview\"><summary><span class=\"dni-code-hint\"><code></code></span></summary><div><table><thead><tr></tr></thead><tbody><tr><td>Value</td><td></td></tr><tr><td>IsTrusted</td><td><div class=\"dni-plaintext\"><pre>True</pre></div></td></tr></tbody></table></div></details></td></tr></tbody></table></td></tr><tr><td>Steps</td><td></td></tr><tr><td>Parameters</td><td><table><thead><tr><th><i>key</i></th><th>value</th></tr></thead><tbody><tr><td>INPUT</td><td><details class=\"dni-treeview\"><summary><span class=\"dni-code-hint\"><code>$CLASSIFICATION_INFO</code></span></summary><div><table><thead><tr></tr></thead><tbody><tr><td>Value</td><td>$CLASSIFICATION_INFO</td></tr><tr><td>IsTrusted</td><td><div class=\"dni-plaintext\"><pre>True</pre></div></td></tr></tbody></table></div></details></td></tr></tbody></table></td></tr><tr><td>Outputs</td><td><div class=\"dni-plaintext\"><pre>[ TIPS_INFO ]</pre></div></td></tr><tr><td>HasNextStep</td><td><div class=\"dni-plaintext\"><pre>False</pre></div></td></tr><tr><td>NextStepIndex</td><td><div class=\"dni-plaintext\"><pre>0</pre></div></td></tr><tr><td>Name</td><td>Tips</td></tr><tr><td>SkillName</td><td>WriteSkill</td></tr><tr><td>Description</td><td>穿衣提示</td></tr><tr><td>IsSemantic</td><td><div class=\"dni-plaintext\"><pre>True</pre></div></td></tr><tr><td>IsSensitive</td><td><div class=\"dni-plaintext\"><pre>False</pre></div></td></tr><tr><td>TrustServiceInstance</td><td><details class=\"dni-treeview\"><summary><span class=\"dni-code-hint\"><code>Microsoft.SemanticKernel.Security.TrustService</code></span></summary><div><table><thead><tr></tr></thead><tbody></tbody></table></div></details></td></tr><tr><td>RequestSettings</td><td><details class=\"dni-treeview\"><summary><span class=\"dni-code-hint\"><code>Microsoft.SemanticKernel.AI.TextCompletion.CompleteRequestSettings</code></span></summary><div><table><thead><tr></tr></thead><tbody><tr><td>Temperature</td><td><div class=\"dni-plaintext\"><pre>0.5</pre></div></td></tr><tr><td>TopP</td><td><div class=\"dni-plaintext\"><pre>0</pre></div></td></tr><tr><td>PresencePenalty</td><td><div class=\"dni-plaintext\"><pre>0</pre></div></td></tr><tr><td>FrequencyPenalty</td><td><div class=\"dni-plaintext\"><pre>0</pre></div></td></tr><tr><td>MaxTokens</td><td><div class=\"dni-plaintext\"><pre>512</pre></div></td></tr><tr><td>StopSequences</td><td></td></tr><tr><td>ResultsPerPrompt</td><td><div class=\"dni-plaintext\"><pre>1</pre></div></td></tr><tr><td>ChatSystemPrompt</td><td>Assistant is a large language model.</td></tr><tr><td>TokenSelectionBiases</td><td><i>(empty)</i></td></tr></tbody></table></div></details></td></tr></tbody></table></div></details></td></tr><tr><td>5</td><td><details class=\"dni-treeview\"><summary><span class=\"dni-code-hint\"><code>Microsoft.SemanticKernel.Planning.Plan</code></span></summary><div><table><thead><tr></tr></thead><tbody><tr><td>State</td><td><table><thead><tr><th><i>key</i></th><th>value</th></tr></thead><tbody><tr><td>INPUT</td><td><details class=\"dni-treeview\"><summary><span class=\"dni-code-hint\"><code></code></span></summary><div><table><thead><tr></tr></thead><tbody><tr><td>Value</td><td></td></tr><tr><td>IsTrusted</td><td><div class=\"dni-plaintext\"><pre>True</pre></div></td></tr></tbody></table></div></details></td></tr></tbody></table></td></tr><tr><td>Steps</td><td></td></tr><tr><td>Parameters</td><td><table><thead><tr><th><i>key</i></th><th>value</th></tr></thead><tbody><tr><td>INPUT</td><td><details class=\"dni-treeview\"><summary><span class=\"dni-code-hint\"><code>$WEATHER_INFO</code></span></summary><div><table><thead><tr></tr></thead><tbody><tr><td>Value</td><td>$WEATHER_INFO</td></tr><tr><td>IsTrusted</td><td><div class=\"dni-plaintext\"><pre>True</pre></div></td></tr></tbody></table></div></details></td></tr></tbody></table></td></tr><tr><td>Outputs</td><td><div class=\"dni-plaintext\"><pre>[ TRANSLATE_INFO ]</pre></div></td></tr><tr><td>HasNextStep</td><td><div class=\"dni-plaintext\"><pre>False</pre></div></td></tr><tr><td>NextStepIndex</td><td><div class=\"dni-plaintext\"><pre>0</pre></div></td></tr><tr><td>Name</td><td>Transalte</td></tr><tr><td>SkillName</td><td>WriteSkill</td></tr><tr><td>Description</td><td>翻译</td></tr><tr><td>IsSemantic</td><td><div class=\"dni-plaintext\"><pre>True</pre></div></td></tr><tr><td>IsSensitive</td><td><div class=\"dni-plaintext\"><pre>False</pre></div></td></tr><tr><td>TrustServiceInstance</td><td><details class=\"dni-treeview\"><summary><span class=\"dni-code-hint\"><code>Microsoft.SemanticKernel.Security.TrustService</code></span></summary><div><table><thead><tr></tr></thead><tbody></tbody></table></div></details></td></tr><tr><td>RequestSettings</td><td><details class=\"dni-treeview\"><summary><span class=\"dni-code-hint\"><code>Microsoft.SemanticKernel.AI.TextCompletion.CompleteRequestSettings</code></span></summary><div><table><thead><tr></tr></thead><tbody><tr><td>Temperature</td><td><div class=\"dni-plaintext\"><pre>0.5</pre></div></td></tr><tr><td>TopP</td><td><div class=\"dni-plaintext\"><pre>0</pre></div></td></tr><tr><td>PresencePenalty</td><td><div class=\"dni-plaintext\"><pre>0</pre></div></td></tr><tr><td>FrequencyPenalty</td><td><div class=\"dni-plaintext\"><pre>0</pre></div></td></tr><tr><td>MaxTokens</td><td><div class=\"dni-plaintext\"><pre>512</pre></div></td></tr><tr><td>StopSequences</td><td></td></tr><tr><td>ResultsPerPrompt</td><td><div class=\"dni-plaintext\"><pre>1</pre></div></td></tr><tr><td>ChatSystemPrompt</td><td>Assistant is a large language model.</td></tr><tr><td>TokenSelectionBiases</td><td><i>(empty)</i></td></tr></tbody></table></div></details></td></tr></tbody></table></div></details></td></tr><tr><td>6</td><td><details class=\"dni-treeview\"><summary><span class=\"dni-code-hint\"><code>Microsoft.SemanticKernel.Planning.Plan</code></span></summary><div><table><thead><tr></tr></thead><tbody><tr><td>State</td><td><table><thead><tr><th><i>key</i></th><th>value</th></tr></thead><tbody><tr><td>INPUT</td><td><details class=\"dni-treeview\"><summary><span class=\"dni-code-hint\"><code></code></span></summary><div><table><thead><tr></tr></thead><tbody><tr><td>Value</td><td></td></tr><tr><td>IsTrusted</td><td><div class=\"dni-plaintext\"><pre>True</pre></div></td></tr></tbody></table></div></details></td></tr></tbody></table></td></tr><tr><td>Steps</td><td></td></tr><tr><td>Parameters</td><td><table><thead><tr><th><i>key</i></th><th>value</th></tr></thead><tbody><tr><td>INPUT</td><td><details class=\"dni-treeview\"><summary><span class=\"dni-code-hint\"><code>$TRANSLATE_INFO</code></span></summary><div><table><thead><tr></tr></thead><tbody><tr><td>Value</td><td>$TRANSLATE_INFO</td></tr><tr><td>IsTrusted</td><td><div class=\"dni-plaintext\"><pre>True</pre></div></td></tr></tbody></table></div></details></td></tr></tbody></table></td></tr><tr><td>Outputs</td><td><div class=\"dni-plaintext\"><pre>[ RESULT__EMAIL_INFO ]</pre></div></td></tr><tr><td>HasNextStep</td><td><div class=\"dni-plaintext\"><pre>False</pre></div></td></tr><tr><td>NextStepIndex</td><td><div class=\"dni-plaintext\"><pre>0</pre></div></td></tr><tr><td>Name</td><td>WeatherMail</td></tr><tr><td>SkillName</td><td>EmailSkill</td></tr><tr><td>Description</td><td>Write an email about weather</td></tr><tr><td>IsSemantic</td><td><div class=\"dni-plaintext\"><pre>True</pre></div></td></tr><tr><td>IsSensitive</td><td><div class=\"dni-plaintext\"><pre>False</pre></div></td></tr><tr><td>TrustServiceInstance</td><td><details class=\"dni-treeview\"><summary><span class=\"dni-code-hint\"><code>Microsoft.SemanticKernel.Security.TrustService</code></span></summary><div><table><thead><tr></tr></thead><tbody></tbody></table></div></details></td></tr><tr><td>RequestSettings</td><td><details class=\"dni-treeview\"><summary><span class=\"dni-code-hint\"><code>Microsoft.SemanticKernel.AI.TextCompletion.CompleteRequestSettings</code></span></summary><div><table><thead><tr></tr></thead><tbody><tr><td>Temperature</td><td><div class=\"dni-plaintext\"><pre>0</pre></div></td></tr><tr><td>TopP</td><td><div class=\"dni-plaintext\"><pre>0</pre></div></td></tr><tr><td>PresencePenalty</td><td><div class=\"dni-plaintext\"><pre>0</pre></div></td></tr><tr><td>FrequencyPenalty</td><td><div class=\"dni-plaintext\"><pre>0</pre></div></td></tr><tr><td>MaxTokens</td><td><div class=\"dni-plaintext\"><pre>1024</pre></div></td></tr><tr><td>StopSequences</td><td></td></tr><tr><td>ResultsPerPrompt</td><td><div class=\"dni-plaintext\"><pre>1</pre></div></td></tr><tr><td>ChatSystemPrompt</td><td>Assistant is a large language model.</td></tr><tr><td>TokenSelectionBiases</td><td><i>(empty)</i></td></tr></tbody></table></div></details></td></tr></tbody></table></div></details></td></tr><tr><td>7</td><td><details class=\"dni-treeview\"><summary><span class=\"dni-code-hint\"><code>Microsoft.SemanticKernel.Planning.Plan</code></span></summary><div><table><thead><tr></tr></thead><tbody><tr><td>State</td><td><table><thead><tr><th><i>key</i></th><th>value</th></tr></thead><tbody><tr><td>INPUT</td><td><details class=\"dni-treeview\"><summary><span class=\"dni-code-hint\"><code></code></span></summary><div><table><thead><tr></tr></thead><tbody><tr><td>Value</td><td></td></tr><tr><td>IsTrusted</td><td><div class=\"dni-plaintext\"><pre>True</pre></div></td></tr></tbody></table></div></details></td></tr></tbody></table></td></tr><tr><td>Steps</td><td></td></tr><tr><td>Parameters</td><td><table><thead><tr><th><i>key</i></th><th>value</th></tr></thead><tbody><tr><td>INPUT</td><td><details class=\"dni-treeview\"><summary><span class=\"dni-code-hint\"><code>$TIPS_INFO</code></span></summary><div><table><thead><tr></tr></thead><tbody><tr><td>Value</td><td>$TIPS_INFO</td></tr><tr><td>IsTrusted</td><td><div class=\"dni-plaintext\"><pre>True</pre></div></td></tr></tbody></table></div></details></td></tr></tbody></table></td></tr><tr><td>Outputs</td><td><div class=\"dni-plaintext\"><pre>[ RESULT__EMAIL_INFO ]</pre></div></td></tr><tr><td>HasNextStep</td><td><div class=\"dni-plaintext\"><pre>False</pre></div></td></tr><tr><td>NextStepIndex</td><td><div class=\"dni-plaintext\"><pre>0</pre></div></td></tr><tr><td>Name</td><td>WeatherMail</td></tr><tr><td>SkillName</td><td>EmailSkill</td></tr><tr><td>Description</td><td>Write an email about weather</td></tr><tr><td>IsSemantic</td><td><div class=\"dni-plaintext\"><pre>True</pre></div></td></tr><tr><td>IsSensitive</td><td><div class=\"dni-plaintext\"><pre>False</pre></div></td></tr><tr><td>TrustServiceInstance</td><td><details class=\"dni-treeview\"><summary><span class=\"dni-code-hint\"><code>Microsoft.SemanticKernel.Security.TrustService</code></span></summary><div><table><thead><tr></tr></thead><tbody></tbody></table></div></details></td></tr><tr><td>RequestSettings</td><td><details class=\"dni-treeview\"><summary><span class=\"dni-code-hint\"><code>Microsoft.SemanticKernel.AI.TextCompletion.CompleteRequestSettings</code></span></summary><div><table><thead><tr></tr></thead><tbody><tr><td>Temperature</td><td><div class=\"dni-plaintext\"><pre>0</pre></div></td></tr><tr><td>TopP</td><td><div class=\"dni-plaintext\"><pre>0</pre></div></td></tr><tr><td>PresencePenalty</td><td><div class=\"dni-plaintext\"><pre>0</pre></div></td></tr><tr><td>FrequencyPenalty</td><td><div class=\"dni-plaintext\"><pre>0</pre></div></td></tr><tr><td>MaxTokens</td><td><div class=\"dni-plaintext\"><pre>1024</pre></div></td></tr><tr><td>StopSequences</td><td></td></tr><tr><td>ResultsPerPrompt</td><td><div class=\"dni-plaintext\"><pre>1</pre></div></td></tr><tr><td>ChatSystemPrompt</td><td>Assistant is a large language model.</td></tr><tr><td>TokenSelectionBiases</td><td><i>(empty)</i></td></tr></tbody></table></div></details></td></tr></tbody></table></div></details></td></tr></tbody></table><style>\r\n",
       ".dni-code-hint {\r\n",
       "    font-style: italic;\r\n",
       "    overflow: hidden;\r\n",
       "    white-space: nowrap;\r\n",
       "}\r\n",
       ".dni-treeview {\r\n",
       "    white-space: nowrap;\r\n",
       "}\r\n",
       ".dni-treeview td {\r\n",
       "    vertical-align: top;\r\n",
       "    text-align: start;\r\n",
       "}\r\n",
       "details.dni-treeview {\r\n",
       "    padding-left: 1em;\r\n",
       "}\r\n",
       "table td {\r\n",
       "    text-align: start;\r\n",
       "}\r\n",
       "table tr { \r\n",
       "    vertical-align: top; \r\n",
       "    margin: 0em 0px;\r\n",
       "}\r\n",
       "table tr td pre \r\n",
       "{ \r\n",
       "    vertical-align: top !important; \r\n",
       "    margin: 0em 0px !important;\r\n",
       "} \r\n",
       "table th {\r\n",
       "    text-align: start;\r\n",
       "}\r\n",
       "</style>"
      ]
     },
     "metadata": {},
     "output_type": "display_data"
    }
   ],
   "source": [
    "// plan.Variables.ToPlan().PlanString\n",
    "plan.Steps"
   ]
  },
  {
   "cell_type": "code",
   "execution_count": 15,
   "metadata": {
    "dotnet_interactive": {
     "language": "csharp"
    },
    "polyglot_notebook": {
     "kernelName": "csharp"
    },
    "vscode": {
     "languageId": "polyglot-notebook"
    }
   },
   "outputs": [
    {
     "data": {
      "text/plain": [
       "{\"state\":[{\"Key\":\"INPUT\",\"Value\":\"\"}],\"steps\":[{\"state\":[{\"Key\":\"INPUT\",\"Value\":\"\"}],\"steps\":[],\"parameters\":[{\"Key\":\"INPUT\",\"Value\":\"Guangzhou\"}],\"outputs\":[\"EMPLOYEE_INFO\"],\"next_step_index\":0,\"name\":\"EmployeeSearch\",\"skill_name\":\"CustomSkill\",\"description\":\"search employee infomation\"},{\"state\":[{\"Key\":\"INPUT\",\"Value\":\"\"}],\"steps\":[],\"parameters\":[{\"Key\":\"INPUT\",\"Value\":\"\"},{\"Key\":\"text\",\"Value\":\"Guangzhou\"}],\"outputs\":[\"WEATHER_INFO\"],\"next_step_index\":0,\"name\":\"WeatherSearch\",\"skill_name\":\"CustomSkill\",\"description\":\"search weather\"},{\"state\":[{\"Key\":\"INPUT\",\"Value\":\"\"}],\"steps\":[],\"parameters\":[{\"Key\":\"INPUT\",\"Value\":\"$WEATHER_INFO\"}],\"outputs\":[\"EMAIL_INFO\"],\"next_step_index\":0,\"name\":\"WeatherMail\",\"skill_name\":\"EmailSkill\",\"description\":\"Write an email about weather\"},{\"state\":[{\"Key\":\"INPUT\",\"Value\":\"\"}],\"steps\":[],\"parameters\":[{\"Key\":\"label\",\"Value\":\"weather\"},{\"Key\":\"INPUT\",\"Value\":\"$WEATHER_INFO\"}],\"outputs\":[\"CLASSIFICATION_INFO\"],\"next_step_index\":0,\"name\":\"Classification\",\"skill_name\":\"WriteSkill\",\"description\":\"\\u6587\\u672C\\u5206\\u7C7B\"},{\"state\":[{\"Key\":\"INPUT\",\"Value\":\"\"}],\"steps\":[],\"parameters\":[{\"Key\":\"INPUT\",\"Value\":\"$CLASSIFICATION_INFO\"}],\"outputs\":[\"TIPS_INFO\"],\"next_step_index\":0,\"name\":\"Tips\",\"skill_name\":\"WriteSkill\",\"description\":\"\\u7A7F\\u8863\\u63D0\\u793A\"},{\"state\":[{\"Key\":\"INPUT\",\"Value\":\"\"}],\"steps\":[],\"parameters\":[{\"Key\":\"INPUT\",\"Value\":\"$WEATHER_INFO\"}],\"outputs\":[\"TRANSLATE_INFO\"],\"next_step_index\":0,\"name\":\"Transalte\",\"skill_name\":\"WriteSkill\",\"description\":\"\\u7FFB\\u8BD1\"},{\"state\":[{\"Key\":\"INPUT\",\"Value\":\"\"}],\"steps\":[],\"parameters\":[{\"Key\":\"INPUT\",\"Value\":\"$TRANSLATE_INFO\"}],\"outputs\":[\"RESULT__EMAIL_INFO\"],\"next_step_index\":0,\"name\":\"WeatherMail\",\"skill_name\":\"EmailSkill\",\"description\":\"Write an email about weather\"},{\"state\":[{\"Key\":\"INPUT\",\"Value\":\"\"}],\"steps\":[],\"parameters\":[{\"Key\":\"INPUT\",\"Value\":\"$TIPS_INFO\"}],\"outputs\":[\"RESULT__EMAIL_INFO\"],\"next_step_index\":0,\"name\":\"WeatherMail\",\"skill_name\":\"EmailSkill\",\"description\":\"Write an email about weather\"}],\"parameters\":[{\"Key\":\"INPUT\",\"Value\":\"\"}],\"outputs\":[\"RESULT__EMAIL_INFO\",\"RESULT__EMAIL_INFO\"],\"next_step_index\":0,\"name\":\"\",\"skill_name\":\"Microsoft.SemanticKernel.Planning.Plan\",\"description\":\"\\u67E5\\u627E\\u5E7F\\u5DDE\\u5929\\u6C14\\u628A\\u7ED3\\u679C\\u7FFB\\u8BD1\\u6210\\u4E2D\\u6587\\u540E\\u6839\\u636E\\u5929\\u6C14\\u60C5\\u51B5\\u751F\\u6210\\u7A7F\\u8863\\u63D0\\u793A\\uFF0C\\u5E76\\u7ED3\\u5408\\u5929\\u6C14\\u7ED3\\u679C\\u548C\\u7A7F\\u8863\\u63D0\\u793A\\u5199\\u4E00\\u5C01\\u90AE\\u4EF6\"}"
      ]
     },
     "metadata": {},
     "output_type": "display_data"
    }
   ],
   "source": [
    "plan.ToJson()"
   ]
  },
  {
   "cell_type": "code",
   "execution_count": 16,
   "metadata": {
    "dotnet_interactive": {
     "language": "csharp"
    },
    "polyglot_notebook": {
     "kernelName": "csharp"
    },
    "vscode": {
     "languageId": "polyglot-notebook"
    }
   },
   "outputs": [],
   "source": [
    "var result = await kernel.RunAsync(plan);"
   ]
  },
  {
   "cell_type": "code",
   "execution_count": 17,
   "metadata": {
    "dotnet_interactive": {
     "language": "csharp"
    },
    "polyglot_notebook": {
     "kernelName": "csharp"
    },
    "vscode": {
     "languageId": "polyglot-notebook"
    }
   },
   "outputs": [
    {
     "data": {
      "text/plain": [
       "尊敬的同事：\n",
       "\n",
       "您好！\n",
       "\n",
       "根据最新的天气预报，广州的气温约为2度，有可能下雨。为了确保您的出行安全，请您穿着暖和的衣服，并随时留意出行状况。\n",
       "\n",
       "如果出现恶劣天气，请您及时做出调整，以免影响您的出行安全。\n",
       "\n",
       "如有任何疑问，请随时与我联系。\n",
       "\n",
       "祝您出行愉快！\n",
       "\n",
       "此致\n",
       "\n",
       "敬礼！\n",
       "尊敬的同事：\n",
       "\n",
       "您好！\n",
       "\n",
       "根据最新的天气预报，今天的气温较低，请您出门前穿上棉衣、长裤和运动鞋，并多多护肤，以免受凉。\n",
       "\n",
       "同时，请您出行时随时留意出行状况，以免发生意外。如果遇到任何问题，请及时联系我们，我们会尽快给您提供帮助。\n",
       "\n",
       "祝您出行愉快！\n",
       "\n",
       "此致\n",
       "\n",
       "敬礼！"
      ]
     },
     "metadata": {},
     "output_type": "display_data"
    }
   ],
   "source": [
    "result.Result"
   ]
  }
 ],
 "metadata": {
  "language_info": {
   "name": "python"
  },
  "orig_nbformat": 4
 },
 "nbformat": 4,
 "nbformat_minor": 2
}

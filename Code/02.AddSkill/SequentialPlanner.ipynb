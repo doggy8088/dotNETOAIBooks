{
 "cells": [
  {
   "cell_type": "code",
   "execution_count": 1,
   "metadata": {
    "dotnet_interactive": {
     "language": "csharp"
    },
    "polyglot_notebook": {
     "kernelName": "csharp"
    },
    "vscode": {
     "languageId": "polyglot-notebook"
    }
   },
   "outputs": [
    {
     "data": {
      "text/html": [
       "<div><div></div><div></div><div><strong>Installed Packages</strong><ul><li><span>Microsoft.SemanticKernel, 1.0.0-beta3</span></li></ul></div></div>"
      ]
     },
     "metadata": {},
     "output_type": "display_data"
    }
   ],
   "source": [
    "#r \"nuget: Microsoft.SemanticKernel, *-*\""
   ]
  },
  {
   "cell_type": "code",
   "execution_count": 2,
   "metadata": {
    "dotnet_interactive": {
     "language": "csharp"
    },
    "polyglot_notebook": {
     "kernelName": "csharp"
    },
    "vscode": {
     "languageId": "polyglot-notebook"
    }
   },
   "outputs": [],
   "source": [
    "#!import Plugins/CustomPlugin/CompanySearchPlugin.cs"
   ]
  },
  {
   "cell_type": "code",
   "execution_count": 3,
   "metadata": {
    "dotnet_interactive": {
     "language": "csharp"
    },
    "polyglot_notebook": {
     "kernelName": "csharp"
    },
    "vscode": {
     "languageId": "polyglot-notebook"
    }
   },
   "outputs": [],
   "source": [
    "using Microsoft.SemanticKernel;;"
   ]
  },
  {
   "cell_type": "code",
   "execution_count": 4,
   "metadata": {
    "dotnet_interactive": {
     "language": "csharp"
    },
    "polyglot_notebook": {
     "kernelName": "csharp"
    },
    "vscode": {
     "languageId": "polyglot-notebook"
    }
   },
   "outputs": [],
   "source": [
    "\n",
    "// using Microsoft.SemanticKernel.CoreSkills;\n",
    "using Microsoft.SemanticKernel.Orchestration;\n",
    "using Microsoft.SemanticKernel.Planning;\n",
    "using Microsoft.SemanticKernel.Planners;"
   ]
  },
  {
   "cell_type": "code",
   "execution_count": 5,
   "metadata": {
    "dotnet_interactive": {
     "language": "csharp"
    },
    "polyglot_notebook": {
     "kernelName": "csharp"
    },
    "vscode": {
     "languageId": "polyglot-notebook"
    }
   },
   "outputs": [],
   "source": [
    "IKernel kernel = new KernelBuilder().WithAzureChatCompletionService(\"GPT3Model\", \"Your Azure OpenAI Service Endpoint\", \"Your Azure OpenAI Service API Key\").Build();"
   ]
  },
  {
   "cell_type": "code",
   "execution_count": 6,
   "metadata": {
    "dotnet_interactive": {
     "language": "csharp"
    },
    "polyglot_notebook": {
     "kernelName": "csharp"
    },
    "vscode": {
     "languageId": "polyglot-notebook"
    }
   },
   "outputs": [],
   "source": [
    "var planner = new SequentialPlanner(kernel);"
   ]
  },
  {
   "cell_type": "code",
   "execution_count": 7,
   "metadata": {
    "dotnet_interactive": {
     "language": "csharp"
    },
    "polyglot_notebook": {
     "kernelName": "csharp"
    },
    "vscode": {
     "languageId": "polyglot-notebook"
    }
   },
   "outputs": [],
   "source": [
    "// var planner = kernel.ImportSkill(new SequentialPlanner(kernel));"
   ]
  },
  {
   "cell_type": "code",
   "execution_count": 8,
   "metadata": {
    "dotnet_interactive": {
     "language": "csharp"
    },
    "polyglot_notebook": {
     "kernelName": "csharp"
    },
    "vscode": {
     "languageId": "polyglot-notebook"
    }
   },
   "outputs": [
    {
     "data": {
      "text/html": [
       "<details open=\"open\" class=\"dni-treeview\"><summary><span class=\"dni-code-hint\"><code>Microsoft.SemanticKernel.Planners.SequentialPlanner</code></span></summary><div><table><thead><tr></tr></thead><tbody></tbody></table></div></details><style>\r\n",
       ".dni-code-hint {\r\n",
       "    font-style: italic;\r\n",
       "    overflow: hidden;\r\n",
       "    white-space: nowrap;\r\n",
       "}\r\n",
       ".dni-treeview {\r\n",
       "    white-space: nowrap;\r\n",
       "}\r\n",
       ".dni-treeview td {\r\n",
       "    vertical-align: top;\r\n",
       "    text-align: start;\r\n",
       "}\r\n",
       "details.dni-treeview {\r\n",
       "    padding-left: 1em;\r\n",
       "}\r\n",
       "table td {\r\n",
       "    text-align: start;\r\n",
       "}\r\n",
       "table tr { \r\n",
       "    vertical-align: top; \r\n",
       "    margin: 0em 0px;\r\n",
       "}\r\n",
       "table tr td pre \r\n",
       "{ \r\n",
       "    vertical-align: top !important; \r\n",
       "    margin: 0em 0px !important;\r\n",
       "} \r\n",
       "table th {\r\n",
       "    text-align: start;\r\n",
       "}\r\n",
       "</style>"
      ]
     },
     "metadata": {},
     "output_type": "display_data"
    }
   ],
   "source": [
    "planner"
   ]
  },
  {
   "cell_type": "code",
   "execution_count": 9,
   "metadata": {
    "dotnet_interactive": {
     "language": "csharp"
    },
    "polyglot_notebook": {
     "kernelName": "csharp"
    },
    "vscode": {
     "languageId": "polyglot-notebook"
    }
   },
   "outputs": [],
   "source": [
    "\n",
    "CompanySearchPlugin customSkill = new CompanySearchPlugin();"
   ]
  },
  {
   "cell_type": "code",
   "execution_count": 10,
   "metadata": {
    "dotnet_interactive": {
     "language": "csharp"
    },
    "polyglot_notebook": {
     "kernelName": "csharp"
    },
    "vscode": {
     "languageId": "polyglot-notebook"
    }
   },
   "outputs": [],
   "source": [
    "var custom_skill = kernel.ImportFunctions(customSkill, \"CustomSkill\");"
   ]
  },
  {
   "cell_type": "code",
   "execution_count": 11,
   "metadata": {
    "dotnet_interactive": {
     "language": "csharp"
    },
    "polyglot_notebook": {
     "kernelName": "csharp"
    },
    "vscode": {
     "languageId": "polyglot-notebook"
    }
   },
   "outputs": [],
   "source": [
    "var skillsDirectory =  System.IO.Directory.GetCurrentDirectory() + \"/Plugins\";"
   ]
  },
  {
   "cell_type": "code",
   "execution_count": 12,
   "metadata": {
    "dotnet_interactive": {
     "language": "csharp"
    },
    "polyglot_notebook": {
     "kernelName": "csharp"
    },
    "vscode": {
     "languageId": "polyglot-notebook"
    }
   },
   "outputs": [],
   "source": [
    "var write_skill = kernel.ImportSemanticFunctionsFromDirectory(skillsDirectory,\"WritePlugin\");\n",
    "var email_skill = kernel.ImportSemanticFunctionsFromDirectory(skillsDirectory,\"EmailPlugin\");"
   ]
  },
  {
   "cell_type": "code",
   "execution_count": 13,
   "metadata": {
    "dotnet_interactive": {
     "language": "csharp"
    },
    "polyglot_notebook": {
     "kernelName": "csharp"
    },
    "vscode": {
     "languageId": "polyglot-notebook"
    }
   },
   "outputs": [],
   "source": [
    "var plan = await planner.CreatePlanAsync(\"查詢廣州天氣把結果翻譯成中文後根據天氣情況生成穿衣提示，並結合天氣結果和穿衣提示寫一封郵件\");"
   ]
  },
  {
   "cell_type": "code",
   "execution_count": 14,
   "metadata": {
    "dotnet_interactive": {
     "language": "csharp"
    },
    "polyglot_notebook": {
     "kernelName": "csharp"
    },
    "vscode": {
     "languageId": "polyglot-notebook"
    }
   },
   "outputs": [
    {
     "data": {
      "text/html": [
       "<table><thead><tr><th><i>index</i></th><th>value</th></tr></thead><tbody><tr><td>0</td><td><details class=\"dni-treeview\"><summary><span class=\"dni-code-hint\"><code>Microsoft.SemanticKernel.Planning.Plan</code></span></summary><div><table><thead><tr></tr></thead><tbody><tr><td>State</td><td><i>(empty)</i></td></tr><tr><td>Steps</td><td><i>(empty)</i></td></tr><tr><td>Parameters</td><td><table><thead><tr><th><i>key</i></th><th>value</th></tr></thead><tbody><tr><td><div class=\"dni-plaintext\"><pre>text</pre></div></td><td><div class=\"dni-plaintext\"><pre>Guangzhou</pre></div></td></tr></tbody></table></td></tr><tr><td>Outputs</td><td><div class=\"dni-plaintext\"><pre>[ WEATHER_RESULT ]</pre></div></td></tr><tr><td>HasNextStep</td><td><div class=\"dni-plaintext\"><pre>False</pre></div></td></tr><tr><td>NextStepIndex</td><td><div class=\"dni-plaintext\"><pre>0</pre></div></td></tr><tr><td>Name</td><td><div class=\"dni-plaintext\"><pre>WeatherSearch</pre></div></td></tr><tr><td>PluginName</td><td><div class=\"dni-plaintext\"><pre>CustomSkill</pre></div></td></tr><tr><td>Description</td><td><div class=\"dni-plaintext\"><pre>search weather</pre></div></td></tr><tr><td>RequestSettings</td><td><div class=\"dni-plaintext\"><pre>&lt;null&gt;</pre></div></td></tr><tr><td>SkillName</td><td><div class=\"dni-plaintext\"><pre>CustomSkill</pre></div></td></tr><tr><td>IsSemantic</td><td><div class=\"dni-plaintext\"><pre>True</pre></div></td></tr></tbody></table></div></details></td></tr><tr><td>1</td><td><details class=\"dni-treeview\"><summary><span class=\"dni-code-hint\"><code>Microsoft.SemanticKernel.Planning.Plan</code></span></summary><div><table><thead><tr></tr></thead><tbody><tr><td>State</td><td><i>(empty)</i></td></tr><tr><td>Steps</td><td><i>(empty)</i></td></tr><tr><td>Parameters</td><td><table><thead><tr><th><i>key</i></th><th>value</th></tr></thead><tbody><tr><td><div class=\"dni-plaintext\"><pre>input</pre></div></td><td><div class=\"dni-plaintext\"><pre>$WEATHER_RESULT</pre></div></td></tr></tbody></table></td></tr><tr><td>Outputs</td><td><div class=\"dni-plaintext\"><pre>[ TRANSLATED_WEATHER ]</pre></div></td></tr><tr><td>HasNextStep</td><td><div class=\"dni-plaintext\"><pre>False</pre></div></td></tr><tr><td>NextStepIndex</td><td><div class=\"dni-plaintext\"><pre>0</pre></div></td></tr><tr><td>Name</td><td><div class=\"dni-plaintext\"><pre>Transalte</pre></div></td></tr><tr><td>PluginName</td><td><div class=\"dni-plaintext\"><pre>WritePlugin</pre></div></td></tr><tr><td>Description</td><td><div class=\"dni-plaintext\"><pre>翻譯</pre></div></td></tr><tr><td>RequestSettings</td><td><details class=\"dni-treeview\"><summary><span class=\"dni-code-hint\"><code>Microsoft.SemanticKernel.AI.AIRequestSettings</code></span></summary><div><table><thead><tr></tr></thead><tbody><tr><td>ServiceId</td><td><div class=\"dni-plaintext\"><pre>&lt;null&gt;</pre></div></td></tr><tr><td>ModelId</td><td><div class=\"dni-plaintext\"><pre>&lt;null&gt;</pre></div></td></tr><tr><td>ExtensionData</td><td><table><thead><tr><th><i>key</i></th><th>value</th></tr></thead><tbody><tr><td><div class=\"dni-plaintext\"><pre>max_tokens</pre></div></td><td><span><div class=\"dni-plaintext\"><pre>512</pre></div></span></td></tr><tr><td><div class=\"dni-plaintext\"><pre>temperature</pre></div></td><td><span><div class=\"dni-plaintext\"><pre>0.5</pre></div></span></td></tr><tr><td><div class=\"dni-plaintext\"><pre>presence_penalty</pre></div></td><td><span><div class=\"dni-plaintext\"><pre>0</pre></div></span></td></tr><tr><td><div class=\"dni-plaintext\"><pre>frequency_penalty</pre></div></td><td><span><div class=\"dni-plaintext\"><pre>0</pre></div></span></td></tr></tbody></table></td></tr></tbody></table></div></details></td></tr><tr><td>SkillName</td><td><div class=\"dni-plaintext\"><pre>WritePlugin</pre></div></td></tr><tr><td>IsSemantic</td><td><div class=\"dni-plaintext\"><pre>True</pre></div></td></tr></tbody></table></div></details></td></tr><tr><td>2</td><td><details class=\"dni-treeview\"><summary><span class=\"dni-code-hint\"><code>Microsoft.SemanticKernel.Planning.Plan</code></span></summary><div><table><thead><tr></tr></thead><tbody><tr><td>State</td><td><i>(empty)</i></td></tr><tr><td>Steps</td><td><i>(empty)</i></td></tr><tr><td>Parameters</td><td><table><thead><tr><th><i>key</i></th><th>value</th></tr></thead><tbody><tr><td><div class=\"dni-plaintext\"><pre>input</pre></div></td><td><div class=\"dni-plaintext\"><pre>$WEATHER_RESULT</pre></div></td></tr></tbody></table></td></tr><tr><td>Outputs</td><td><div class=\"dni-plaintext\"><pre>[ CLOTHING_TIPS ]</pre></div></td></tr><tr><td>HasNextStep</td><td><div class=\"dni-plaintext\"><pre>False</pre></div></td></tr><tr><td>NextStepIndex</td><td><div class=\"dni-plaintext\"><pre>0</pre></div></td></tr><tr><td>Name</td><td><div class=\"dni-plaintext\"><pre>Tips</pre></div></td></tr><tr><td>PluginName</td><td><div class=\"dni-plaintext\"><pre>WritePlugin</pre></div></td></tr><tr><td>Description</td><td><div class=\"dni-plaintext\"><pre>穿衣提示</pre></div></td></tr><tr><td>RequestSettings</td><td><details class=\"dni-treeview\"><summary><span class=\"dni-code-hint\"><code>Microsoft.SemanticKernel.AI.AIRequestSettings</code></span></summary><div><table><thead><tr></tr></thead><tbody><tr><td>ServiceId</td><td><div class=\"dni-plaintext\"><pre>&lt;null&gt;</pre></div></td></tr><tr><td>ModelId</td><td><div class=\"dni-plaintext\"><pre>&lt;null&gt;</pre></div></td></tr><tr><td>ExtensionData</td><td><table><thead><tr><th><i>key</i></th><th>value</th></tr></thead><tbody><tr><td><div class=\"dni-plaintext\"><pre>max_tokens</pre></div></td><td><span><div class=\"dni-plaintext\"><pre>512</pre></div></span></td></tr><tr><td><div class=\"dni-plaintext\"><pre>temperature</pre></div></td><td><span><div class=\"dni-plaintext\"><pre>0.5</pre></div></span></td></tr><tr><td><div class=\"dni-plaintext\"><pre>presence_penalty</pre></div></td><td><span><div class=\"dni-plaintext\"><pre>0</pre></div></span></td></tr><tr><td><div class=\"dni-plaintext\"><pre>frequency_penalty</pre></div></td><td><span><div class=\"dni-plaintext\"><pre>0</pre></div></span></td></tr></tbody></table></td></tr></tbody></table></div></details></td></tr><tr><td>SkillName</td><td><div class=\"dni-plaintext\"><pre>WritePlugin</pre></div></td></tr><tr><td>IsSemantic</td><td><div class=\"dni-plaintext\"><pre>True</pre></div></td></tr></tbody></table></div></details></td></tr><tr><td>3</td><td><details class=\"dni-treeview\"><summary><span class=\"dni-code-hint\"><code>Microsoft.SemanticKernel.Planning.Plan</code></span></summary><div><table><thead><tr></tr></thead><tbody><tr><td>State</td><td><i>(empty)</i></td></tr><tr><td>Steps</td><td><i>(empty)</i></td></tr><tr><td>Parameters</td><td><table><thead><tr><th><i>key</i></th><th>value</th></tr></thead><tbody><tr><td><div class=\"dni-plaintext\"><pre>input</pre></div></td><td><div class=\"dni-plaintext\"><pre>Weather: $TRANSLATED_WEATHER, Clothing Tips: $CLOTHING_TIPS</pre></div></td></tr></tbody></table></td></tr><tr><td>Outputs</td><td><div class=\"dni-plaintext\"><pre>[ RESULT__EMAIL ]</pre></div></td></tr><tr><td>HasNextStep</td><td><div class=\"dni-plaintext\"><pre>False</pre></div></td></tr><tr><td>NextStepIndex</td><td><div class=\"dni-plaintext\"><pre>0</pre></div></td></tr><tr><td>Name</td><td><div class=\"dni-plaintext\"><pre>WeatherMail</pre></div></td></tr><tr><td>PluginName</td><td><div class=\"dni-plaintext\"><pre>EmailPlugin</pre></div></td></tr><tr><td>Description</td><td><div class=\"dni-plaintext\"><pre>Write an email about weather</pre></div></td></tr><tr><td>RequestSettings</td><td><details class=\"dni-treeview\"><summary><span class=\"dni-code-hint\"><code>Microsoft.SemanticKernel.AI.AIRequestSettings</code></span></summary><div><table><thead><tr></tr></thead><tbody><tr><td>ServiceId</td><td><div class=\"dni-plaintext\"><pre>&lt;null&gt;</pre></div></td></tr><tr><td>ModelId</td><td><div class=\"dni-plaintext\"><pre>&lt;null&gt;</pre></div></td></tr><tr><td>ExtensionData</td><td><table><thead><tr><th><i>key</i></th><th>value</th></tr></thead><tbody><tr><td><div class=\"dni-plaintext\"><pre>max_tokens</pre></div></td><td><span><div class=\"dni-plaintext\"><pre>1024</pre></div></span></td></tr><tr><td><div class=\"dni-plaintext\"><pre>temperature</pre></div></td><td><span><div class=\"dni-plaintext\"><pre>0</pre></div></span></td></tr><tr><td><div class=\"dni-plaintext\"><pre>top_p</pre></div></td><td><span><div class=\"dni-plaintext\"><pre>0</pre></div></span></td></tr><tr><td><div class=\"dni-plaintext\"><pre>presence_penalty</pre></div></td><td><span><div class=\"dni-plaintext\"><pre>0</pre></div></span></td></tr><tr><td><div class=\"dni-plaintext\"><pre>frequency_penalty</pre></div></td><td><span><div class=\"dni-plaintext\"><pre>0</pre></div></span></td></tr></tbody></table></td></tr></tbody></table></div></details></td></tr><tr><td>SkillName</td><td><div class=\"dni-plaintext\"><pre>EmailPlugin</pre></div></td></tr><tr><td>IsSemantic</td><td><div class=\"dni-plaintext\"><pre>True</pre></div></td></tr></tbody></table></div></details></td></tr></tbody></table><style>\r\n",
       ".dni-code-hint {\r\n",
       "    font-style: italic;\r\n",
       "    overflow: hidden;\r\n",
       "    white-space: nowrap;\r\n",
       "}\r\n",
       ".dni-treeview {\r\n",
       "    white-space: nowrap;\r\n",
       "}\r\n",
       ".dni-treeview td {\r\n",
       "    vertical-align: top;\r\n",
       "    text-align: start;\r\n",
       "}\r\n",
       "details.dni-treeview {\r\n",
       "    padding-left: 1em;\r\n",
       "}\r\n",
       "table td {\r\n",
       "    text-align: start;\r\n",
       "}\r\n",
       "table tr { \r\n",
       "    vertical-align: top; \r\n",
       "    margin: 0em 0px;\r\n",
       "}\r\n",
       "table tr td pre \r\n",
       "{ \r\n",
       "    vertical-align: top !important; \r\n",
       "    margin: 0em 0px !important;\r\n",
       "} \r\n",
       "table th {\r\n",
       "    text-align: start;\r\n",
       "}\r\n",
       "</style>"
      ]
     },
     "metadata": {},
     "output_type": "display_data"
    }
   ],
   "source": [
    "// plan.Variables.ToPlan().PlanString\n",
    "plan.Steps"
   ]
  },
  {
   "cell_type": "code",
   "execution_count": 15,
   "metadata": {
    "dotnet_interactive": {
     "language": "csharp"
    },
    "polyglot_notebook": {
     "kernelName": "csharp"
    },
    "vscode": {
     "languageId": "polyglot-notebook"
    }
   },
   "outputs": [
    {
     "data": {
      "text/plain": [
       "{\"state\":[],\"steps\":[{\"state\":[],\"steps\":[],\"parameters\":[{\"Key\":\"text\",\"Value\":\"Guangzhou\"}],\"outputs\":[\"WEATHER_RESULT\"],\"next_step_index\":0,\"name\":\"WeatherSearch\",\"plugin_name\":\"CustomSkill\",\"description\":\"search weather\"},{\"state\":[],\"steps\":[],\"parameters\":[{\"Key\":\"input\",\"Value\":\"$WEATHER_RESULT\"}],\"outputs\":[\"TRANSLATED_WEATHER\"],\"next_step_index\":0,\"name\":\"Transalte\",\"plugin_name\":\"WritePlugin\",\"description\":\"\\u7FFB\\u8BD1\"},{\"state\":[],\"steps\":[],\"parameters\":[{\"Key\":\"input\",\"Value\":\"$WEATHER_RESULT\"}],\"outputs\":[\"CLOTHING_TIPS\"],\"next_step_index\":0,\"name\":\"Tips\",\"plugin_name\":\"WritePlugin\",\"description\":\"\\u7A7F\\u8863\\u63D0\\u793A\"},{\"state\":[],\"steps\":[],\"parameters\":[{\"Key\":\"input\",\"Value\":\"Weather: $TRANSLATED_WEATHER, Clothing Tips: $CLOTHING_TIPS\"}],\"outputs\":[\"RESULT__EMAIL\"],\"next_step_index\":0,\"name\":\"WeatherMail\",\"plugin_name\":\"EmailPlugin\",\"description\":\"Write an email about weather\"}],\"parameters\":[],\"outputs\":[\"RESULT__EMAIL\"],\"next_step_index\":0,\"name\":\"plan4a3b641176d241bfa95d4f26c1dbedd8\",\"plugin_name\":\"Plan\",\"description\":\"\\u67E5\\u627E\\u5E7F\\u5DDE\\u5929\\u6C14\\u628A\\u7ED3\\u679C\\u7FFB\\u8BD1\\u6210\\u4E2D\\u6587\\u540E\\u6839\\u636E\\u5929\\u6C14\\u60C5\\u51B5\\u751F\\u6210\\u7A7F\\u8863\\u63D0\\u793A\\uFF0C\\u5E76\\u7ED3\\u5408\\u5929\\u6C14\\u7ED3\\u679C\\u548C\\u7A7F\\u8863\\u63D0\\u793A\\u5199\\u4E00\\u5C01\\u90AE\\u4EF6\"}"
      ]
     },
     "metadata": {},
     "output_type": "display_data"
    }
   ],
   "source": [
    "plan.ToJson()"
   ]
  },
  {
   "cell_type": "code",
   "execution_count": 16,
   "metadata": {
    "dotnet_interactive": {
     "language": "csharp"
    },
    "polyglot_notebook": {
     "kernelName": "csharp"
    },
    "vscode": {
     "languageId": "polyglot-notebook"
    }
   },
   "outputs": [],
   "source": [
    "var result = await kernel.RunAsync(plan);"
   ]
  },
  {
   "cell_type": "code",
   "execution_count": 17,
   "metadata": {
    "dotnet_interactive": {
     "language": "csharp"
    },
    "polyglot_notebook": {
     "kernelName": "csharp"
    },
    "vscode": {
     "languageId": "polyglot-notebook"
    }
   },
   "outputs": [
    {
     "data": {
      "text/plain": [
       "主題：關於廣州天氣和穿衣提示的出行提醒\n",
       "\n",
       "親愛的同事，\n",
       "\n",
       "我希望這封郵件能夠提醒您關於廣州的天氣情況和相應的穿衣建議。根據最新的天氣預報，廣州的溫度為2度，且有雨。因此，我強烈建議您在出行時穿上暖和的衣物，以確保您的舒適度和健康。\n",
       "\n",
       "為了應對這樣的天氣，您可以選擇穿上厚外套、毛衣和長褲等保暖衣物。這些衣物可以有效地保持您的體溫，並防止您受到寒冷的侵襲。此外，我也建議您攜帶雨具，如雨傘或雨衣，以防止雨水淋溼身體。\n",
       "\n",
       "請您隨時留意出行狀況，特別是在雨天。確保您的行程安全和順利是我們的首要任務。如果您需要任何幫助或有任何疑問，請隨時與我聯絡。\n",
       "\n",
       "祝您旅途愉快！\n",
       "\n",
       "最誠摯的問候，\n",
       "[您的名字]"
      ]
     },
     "metadata": {},
     "output_type": "display_data"
    }
   ],
   "source": [
    "result.GetValue<string>()"
   ]
  }
 ],
 "metadata": {
  "language_info": {
   "name": "python"
  },
  "orig_nbformat": 4
 },
 "nbformat": 4,
 "nbformat_minor": 2
}

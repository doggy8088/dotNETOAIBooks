{
 "cells": [
  {
   "cell_type": "code",
   "execution_count": 1,
   "metadata": {
    "dotnet_interactive": {
     "language": "csharp"
    },
    "polyglot_notebook": {
     "kernelName": "csharp"
    },
    "vscode": {
     "languageId": "polyglot-notebook"
    }
   },
   "outputs": [
    {
     "data": {
      "text/html": [
       "<div><div></div><div></div><div><strong>Installed Packages</strong><ul><li><span>Microsoft.SemanticKernel, 1.0.0-beta2</span></li></ul></div></div>"
      ]
     },
     "metadata": {},
     "output_type": "display_data"
    }
   ],
   "source": [
    "#r \"nuget: Microsoft.SemanticKernel, *-*\""
   ]
  },
  {
   "cell_type": "code",
   "execution_count": 2,
   "metadata": {
    "dotnet_interactive": {
     "language": "csharp"
    },
    "polyglot_notebook": {
     "kernelName": "csharp"
    },
    "vscode": {
     "languageId": "polyglot-notebook"
    }
   },
   "outputs": [],
   "source": [
    "#!import Plugins/CustomPlugin/CompanySearchPlugin.cs"
   ]
  },
  {
   "cell_type": "code",
   "execution_count": 3,
   "metadata": {
    "dotnet_interactive": {
     "language": "csharp"
    },
    "polyglot_notebook": {
     "kernelName": "csharp"
    },
    "vscode": {
     "languageId": "polyglot-notebook"
    }
   },
   "outputs": [],
   "source": [
    "using Microsoft.SemanticKernel;;"
   ]
  },
  {
   "cell_type": "code",
   "execution_count": 4,
   "metadata": {
    "dotnet_interactive": {
     "language": "csharp"
    },
    "polyglot_notebook": {
     "kernelName": "csharp"
    },
    "vscode": {
     "languageId": "polyglot-notebook"
    }
   },
   "outputs": [],
   "source": [
    "\n",
    "// using Microsoft.SemanticKernel.CoreSkills;\n",
    "using Microsoft.SemanticKernel.Orchestration;\n",
    "using Microsoft.SemanticKernel.Planning;\n",
    "using Microsoft.SemanticKernel.Planners;"
   ]
  },
  {
   "cell_type": "code",
   "execution_count": 5,
   "metadata": {
    "dotnet_interactive": {
     "language": "csharp"
    },
    "polyglot_notebook": {
     "kernelName": "csharp"
    },
    "vscode": {
     "languageId": "polyglot-notebook"
    }
   },
   "outputs": [],
   "source": [
    "IKernel kernel = new KernelBuilder().WithAzureChatCompletionService(\"GPT3Model\", \"Your Azure OpenAI Service Endpoint\", \"Your Azure OpenAI Service API Key\").Build();"
   ]
  },
  {
   "cell_type": "code",
   "execution_count": 6,
   "metadata": {
    "dotnet_interactive": {
     "language": "csharp"
    },
    "polyglot_notebook": {
     "kernelName": "csharp"
    },
    "vscode": {
     "languageId": "polyglot-notebook"
    }
   },
   "outputs": [],
   "source": [
    "var planner = new SequentialPlanner(kernel);"
   ]
  },
  {
   "cell_type": "code",
   "execution_count": 7,
   "metadata": {
    "dotnet_interactive": {
     "language": "csharp"
    },
    "polyglot_notebook": {
     "kernelName": "csharp"
    },
    "vscode": {
     "languageId": "polyglot-notebook"
    }
   },
   "outputs": [],
   "source": [
    "// var planner = kernel.ImportSkill(new SequentialPlanner(kernel));"
   ]
  },
  {
   "cell_type": "code",
   "execution_count": 8,
   "metadata": {
    "dotnet_interactive": {
     "language": "csharp"
    },
    "polyglot_notebook": {
     "kernelName": "csharp"
    },
    "vscode": {
     "languageId": "polyglot-notebook"
    }
   },
   "outputs": [
    {
     "data": {
      "text/html": [
       "<details open=\"open\" class=\"dni-treeview\"><summary><span class=\"dni-code-hint\"><code>Microsoft.SemanticKernel.Planners.SequentialPlanner</code></span></summary><div><table><thead><tr></tr></thead><tbody></tbody></table></div></details><style>\r\n",
       ".dni-code-hint {\r\n",
       "    font-style: italic;\r\n",
       "    overflow: hidden;\r\n",
       "    white-space: nowrap;\r\n",
       "}\r\n",
       ".dni-treeview {\r\n",
       "    white-space: nowrap;\r\n",
       "}\r\n",
       ".dni-treeview td {\r\n",
       "    vertical-align: top;\r\n",
       "    text-align: start;\r\n",
       "}\r\n",
       "details.dni-treeview {\r\n",
       "    padding-left: 1em;\r\n",
       "}\r\n",
       "table td {\r\n",
       "    text-align: start;\r\n",
       "}\r\n",
       "table tr { \r\n",
       "    vertical-align: top; \r\n",
       "    margin: 0em 0px;\r\n",
       "}\r\n",
       "table tr td pre \r\n",
       "{ \r\n",
       "    vertical-align: top !important; \r\n",
       "    margin: 0em 0px !important;\r\n",
       "} \r\n",
       "table th {\r\n",
       "    text-align: start;\r\n",
       "}\r\n",
       "</style>"
      ]
     },
     "metadata": {},
     "output_type": "display_data"
    }
   ],
   "source": [
    "planner"
   ]
  },
  {
   "cell_type": "code",
   "execution_count": 9,
   "metadata": {
    "dotnet_interactive": {
     "language": "csharp"
    },
    "polyglot_notebook": {
     "kernelName": "csharp"
    },
    "vscode": {
     "languageId": "polyglot-notebook"
    }
   },
   "outputs": [],
   "source": [
    "\n",
    "CompanySearchPlugin customSkill = new CompanySearchPlugin();"
   ]
  },
  {
   "cell_type": "code",
   "execution_count": 10,
   "metadata": {
    "dotnet_interactive": {
     "language": "csharp"
    },
    "polyglot_notebook": {
     "kernelName": "csharp"
    },
    "vscode": {
     "languageId": "polyglot-notebook"
    }
   },
   "outputs": [],
   "source": [
    "var custom_skill = kernel.ImportFunctions(customSkill, \"CustomSkill\");"
   ]
  },
  {
   "cell_type": "code",
   "execution_count": 11,
   "metadata": {
    "dotnet_interactive": {
     "language": "csharp"
    },
    "polyglot_notebook": {
     "kernelName": "csharp"
    },
    "vscode": {
     "languageId": "polyglot-notebook"
    }
   },
   "outputs": [],
   "source": [
    "var skillsDirectory =  System.IO.Directory.GetCurrentDirectory() + \"/Plugins\";"
   ]
  },
  {
   "cell_type": "code",
   "execution_count": 12,
   "metadata": {
    "dotnet_interactive": {
     "language": "csharp"
    },
    "polyglot_notebook": {
     "kernelName": "csharp"
    },
    "vscode": {
     "languageId": "polyglot-notebook"
    }
   },
   "outputs": [],
   "source": [
    "var write_skill = kernel.ImportSemanticFunctionsFromDirectory(skillsDirectory,\"WritePlugin\");\n",
    "var email_skill = kernel.ImportSemanticFunctionsFromDirectory(skillsDirectory,\"EmailPlugin\");"
   ]
  },
  {
   "cell_type": "code",
   "execution_count": 13,
   "metadata": {
    "dotnet_interactive": {
     "language": "csharp"
    },
    "polyglot_notebook": {
     "kernelName": "csharp"
    },
    "vscode": {
     "languageId": "polyglot-notebook"
    }
   },
   "outputs": [],
   "source": [
    "var plan = await planner.CreatePlanAsync(\"查找广州天气把结果翻译成中文后根据天气情况生成穿衣提示，并结合天气结果和穿衣提示写一封邮件\");"
   ]
  },
  {
   "cell_type": "code",
   "execution_count": 14,
   "metadata": {
    "dotnet_interactive": {
     "language": "csharp"
    },
    "polyglot_notebook": {
     "kernelName": "csharp"
    },
    "vscode": {
     "languageId": "polyglot-notebook"
    }
   },
   "outputs": [
    {
     "data": {
      "text/html": [
       "<table><thead><tr><th><i>index</i></th><th>value</th></tr></thead><tbody><tr><td>0</td><td><details class=\"dni-treeview\"><summary><span class=\"dni-code-hint\"><code>Microsoft.SemanticKernel.Planning.Plan</code></span></summary><div><table><thead><tr></tr></thead><tbody><tr><td>State</td><td><i>(empty)</i></td></tr><tr><td>Steps</td><td><i>(empty)</i></td></tr><tr><td>Parameters</td><td><table><thead><tr><th><i>key</i></th><th>value</th></tr></thead><tbody><tr><td><div class=\"dni-plaintext\"><pre>text</pre></div></td><td><div class=\"dni-plaintext\"><pre>Guangzhou</pre></div></td></tr></tbody></table></td></tr><tr><td>Outputs</td><td><div class=\"dni-plaintext\"><pre>[ WEATHER_RESULT ]</pre></div></td></tr><tr><td>HasNextStep</td><td><div class=\"dni-plaintext\"><pre>False</pre></div></td></tr><tr><td>NextStepIndex</td><td><div class=\"dni-plaintext\"><pre>0</pre></div></td></tr><tr><td>Name</td><td><div class=\"dni-plaintext\"><pre>WeatherSearch</pre></div></td></tr><tr><td>PluginName</td><td><div class=\"dni-plaintext\"><pre>CustomSkill</pre></div></td></tr><tr><td>Description</td><td><div class=\"dni-plaintext\"><pre>search weather</pre></div></td></tr><tr><td>RequestSettings</td><td><div class=\"dni-plaintext\"><pre>&lt;null&gt;</pre></div></td></tr><tr><td>SkillName</td><td><div class=\"dni-plaintext\"><pre>CustomSkill</pre></div></td></tr><tr><td>IsSemantic</td><td><div class=\"dni-plaintext\"><pre>True</pre></div></td></tr></tbody></table></div></details></td></tr><tr><td>1</td><td><details class=\"dni-treeview\"><summary><span class=\"dni-code-hint\"><code>Microsoft.SemanticKernel.Planning.Plan</code></span></summary><div><table><thead><tr></tr></thead><tbody><tr><td>State</td><td><i>(empty)</i></td></tr><tr><td>Steps</td><td><i>(empty)</i></td></tr><tr><td>Parameters</td><td><table><thead><tr><th><i>key</i></th><th>value</th></tr></thead><tbody><tr><td><div class=\"dni-plaintext\"><pre>input</pre></div></td><td><div class=\"dni-plaintext\"><pre>$WEATHER_RESULT</pre></div></td></tr></tbody></table></td></tr><tr><td>Outputs</td><td><div class=\"dni-plaintext\"><pre>[ TRANSLATED_WEATHER ]</pre></div></td></tr><tr><td>HasNextStep</td><td><div class=\"dni-plaintext\"><pre>False</pre></div></td></tr><tr><td>NextStepIndex</td><td><div class=\"dni-plaintext\"><pre>0</pre></div></td></tr><tr><td>Name</td><td><div class=\"dni-plaintext\"><pre>Transalte</pre></div></td></tr><tr><td>PluginName</td><td><div class=\"dni-plaintext\"><pre>WritePlugin</pre></div></td></tr><tr><td>Description</td><td><div class=\"dni-plaintext\"><pre>翻译</pre></div></td></tr><tr><td>RequestSettings</td><td><details class=\"dni-treeview\"><summary><span class=\"dni-code-hint\"><code>Microsoft.SemanticKernel.AI.AIRequestSettings</code></span></summary><div><table><thead><tr></tr></thead><tbody><tr><td>ServiceId</td><td><div class=\"dni-plaintext\"><pre>&lt;null&gt;</pre></div></td></tr><tr><td>ModelId</td><td><div class=\"dni-plaintext\"><pre>&lt;null&gt;</pre></div></td></tr><tr><td>ExtensionData</td><td><table><thead><tr><th><i>key</i></th><th>value</th></tr></thead><tbody><tr><td><div class=\"dni-plaintext\"><pre>max_tokens</pre></div></td><td><span><div class=\"dni-plaintext\"><pre>512</pre></div></span></td></tr><tr><td><div class=\"dni-plaintext\"><pre>temperature</pre></div></td><td><span><div class=\"dni-plaintext\"><pre>0.5</pre></div></span></td></tr><tr><td><div class=\"dni-plaintext\"><pre>presence_penalty</pre></div></td><td><span><div class=\"dni-plaintext\"><pre>0</pre></div></span></td></tr><tr><td><div class=\"dni-plaintext\"><pre>frequency_penalty</pre></div></td><td><span><div class=\"dni-plaintext\"><pre>0</pre></div></span></td></tr></tbody></table></td></tr></tbody></table></div></details></td></tr><tr><td>SkillName</td><td><div class=\"dni-plaintext\"><pre>WritePlugin</pre></div></td></tr><tr><td>IsSemantic</td><td><div class=\"dni-plaintext\"><pre>True</pre></div></td></tr></tbody></table></div></details></td></tr><tr><td>2</td><td><details class=\"dni-treeview\"><summary><span class=\"dni-code-hint\"><code>Microsoft.SemanticKernel.Planning.Plan</code></span></summary><div><table><thead><tr></tr></thead><tbody><tr><td>State</td><td><i>(empty)</i></td></tr><tr><td>Steps</td><td><i>(empty)</i></td></tr><tr><td>Parameters</td><td><table><thead><tr><th><i>key</i></th><th>value</th></tr></thead><tbody><tr><td><div class=\"dni-plaintext\"><pre>input</pre></div></td><td><div class=\"dni-plaintext\"><pre>$WEATHER_RESULT</pre></div></td></tr></tbody></table></td></tr><tr><td>Outputs</td><td><div class=\"dni-plaintext\"><pre>[ CLOTHING_TIPS ]</pre></div></td></tr><tr><td>HasNextStep</td><td><div class=\"dni-plaintext\"><pre>False</pre></div></td></tr><tr><td>NextStepIndex</td><td><div class=\"dni-plaintext\"><pre>0</pre></div></td></tr><tr><td>Name</td><td><div class=\"dni-plaintext\"><pre>Tips</pre></div></td></tr><tr><td>PluginName</td><td><div class=\"dni-plaintext\"><pre>WritePlugin</pre></div></td></tr><tr><td>Description</td><td><div class=\"dni-plaintext\"><pre>穿衣提示</pre></div></td></tr><tr><td>RequestSettings</td><td><details class=\"dni-treeview\"><summary><span class=\"dni-code-hint\"><code>Microsoft.SemanticKernel.AI.AIRequestSettings</code></span></summary><div><table><thead><tr></tr></thead><tbody><tr><td>ServiceId</td><td><div class=\"dni-plaintext\"><pre>&lt;null&gt;</pre></div></td></tr><tr><td>ModelId</td><td><div class=\"dni-plaintext\"><pre>&lt;null&gt;</pre></div></td></tr><tr><td>ExtensionData</td><td><table><thead><tr><th><i>key</i></th><th>value</th></tr></thead><tbody><tr><td><div class=\"dni-plaintext\"><pre>max_tokens</pre></div></td><td><span><div class=\"dni-plaintext\"><pre>512</pre></div></span></td></tr><tr><td><div class=\"dni-plaintext\"><pre>temperature</pre></div></td><td><span><div class=\"dni-plaintext\"><pre>0.5</pre></div></span></td></tr><tr><td><div class=\"dni-plaintext\"><pre>presence_penalty</pre></div></td><td><span><div class=\"dni-plaintext\"><pre>0</pre></div></span></td></tr><tr><td><div class=\"dni-plaintext\"><pre>frequency_penalty</pre></div></td><td><span><div class=\"dni-plaintext\"><pre>0</pre></div></span></td></tr></tbody></table></td></tr></tbody></table></div></details></td></tr><tr><td>SkillName</td><td><div class=\"dni-plaintext\"><pre>WritePlugin</pre></div></td></tr><tr><td>IsSemantic</td><td><div class=\"dni-plaintext\"><pre>True</pre></div></td></tr></tbody></table></div></details></td></tr><tr><td>3</td><td><details class=\"dni-treeview\"><summary><span class=\"dni-code-hint\"><code>Microsoft.SemanticKernel.Planning.Plan</code></span></summary><div><table><thead><tr></tr></thead><tbody><tr><td>State</td><td><i>(empty)</i></td></tr><tr><td>Steps</td><td><i>(empty)</i></td></tr><tr><td>Parameters</td><td><table><thead><tr><th><i>key</i></th><th>value</th></tr></thead><tbody><tr><td><div class=\"dni-plaintext\"><pre>input</pre></div></td><td><div class=\"dni-plaintext\"><pre>Weather: $TRANSLATED_WEATHER, Clothing Tips: $CLOTHING_TIPS</pre></div></td></tr></tbody></table></td></tr><tr><td>Outputs</td><td><div class=\"dni-plaintext\"><pre>[ RESULT__EMAIL ]</pre></div></td></tr><tr><td>HasNextStep</td><td><div class=\"dni-plaintext\"><pre>False</pre></div></td></tr><tr><td>NextStepIndex</td><td><div class=\"dni-plaintext\"><pre>0</pre></div></td></tr><tr><td>Name</td><td><div class=\"dni-plaintext\"><pre>WeatherMail</pre></div></td></tr><tr><td>PluginName</td><td><div class=\"dni-plaintext\"><pre>EmailPlugin</pre></div></td></tr><tr><td>Description</td><td><div class=\"dni-plaintext\"><pre>Write an email about weather</pre></div></td></tr><tr><td>RequestSettings</td><td><details class=\"dni-treeview\"><summary><span class=\"dni-code-hint\"><code>Microsoft.SemanticKernel.AI.AIRequestSettings</code></span></summary><div><table><thead><tr></tr></thead><tbody><tr><td>ServiceId</td><td><div class=\"dni-plaintext\"><pre>&lt;null&gt;</pre></div></td></tr><tr><td>ModelId</td><td><div class=\"dni-plaintext\"><pre>&lt;null&gt;</pre></div></td></tr><tr><td>ExtensionData</td><td><table><thead><tr><th><i>key</i></th><th>value</th></tr></thead><tbody><tr><td><div class=\"dni-plaintext\"><pre>max_tokens</pre></div></td><td><span><div class=\"dni-plaintext\"><pre>1024</pre></div></span></td></tr><tr><td><div class=\"dni-plaintext\"><pre>temperature</pre></div></td><td><span><div class=\"dni-plaintext\"><pre>0</pre></div></span></td></tr><tr><td><div class=\"dni-plaintext\"><pre>top_p</pre></div></td><td><span><div class=\"dni-plaintext\"><pre>0</pre></div></span></td></tr><tr><td><div class=\"dni-plaintext\"><pre>presence_penalty</pre></div></td><td><span><div class=\"dni-plaintext\"><pre>0</pre></div></span></td></tr><tr><td><div class=\"dni-plaintext\"><pre>frequency_penalty</pre></div></td><td><span><div class=\"dni-plaintext\"><pre>0</pre></div></span></td></tr></tbody></table></td></tr></tbody></table></div></details></td></tr><tr><td>SkillName</td><td><div class=\"dni-plaintext\"><pre>EmailPlugin</pre></div></td></tr><tr><td>IsSemantic</td><td><div class=\"dni-plaintext\"><pre>True</pre></div></td></tr></tbody></table></div></details></td></tr></tbody></table><style>\r\n",
       ".dni-code-hint {\r\n",
       "    font-style: italic;\r\n",
       "    overflow: hidden;\r\n",
       "    white-space: nowrap;\r\n",
       "}\r\n",
       ".dni-treeview {\r\n",
       "    white-space: nowrap;\r\n",
       "}\r\n",
       ".dni-treeview td {\r\n",
       "    vertical-align: top;\r\n",
       "    text-align: start;\r\n",
       "}\r\n",
       "details.dni-treeview {\r\n",
       "    padding-left: 1em;\r\n",
       "}\r\n",
       "table td {\r\n",
       "    text-align: start;\r\n",
       "}\r\n",
       "table tr { \r\n",
       "    vertical-align: top; \r\n",
       "    margin: 0em 0px;\r\n",
       "}\r\n",
       "table tr td pre \r\n",
       "{ \r\n",
       "    vertical-align: top !important; \r\n",
       "    margin: 0em 0px !important;\r\n",
       "} \r\n",
       "table th {\r\n",
       "    text-align: start;\r\n",
       "}\r\n",
       "</style>"
      ]
     },
     "metadata": {},
     "output_type": "display_data"
    }
   ],
   "source": [
    "// plan.Variables.ToPlan().PlanString\n",
    "plan.Steps"
   ]
  },
  {
   "cell_type": "code",
   "execution_count": 15,
   "metadata": {
    "dotnet_interactive": {
     "language": "csharp"
    },
    "polyglot_notebook": {
     "kernelName": "csharp"
    },
    "vscode": {
     "languageId": "polyglot-notebook"
    }
   },
   "outputs": [
    {
     "data": {
      "text/plain": [
       "{\"state\":[],\"steps\":[{\"state\":[],\"steps\":[],\"parameters\":[{\"Key\":\"text\",\"Value\":\"Guangzhou\"}],\"outputs\":[\"WEATHER_RESULT\"],\"next_step_index\":0,\"name\":\"WeatherSearch\",\"plugin_name\":\"CustomSkill\",\"description\":\"search weather\"},{\"state\":[],\"steps\":[],\"parameters\":[{\"Key\":\"input\",\"Value\":\"$WEATHER_RESULT\"}],\"outputs\":[\"TRANSLATED_WEATHER\"],\"next_step_index\":0,\"name\":\"Transalte\",\"plugin_name\":\"WritePlugin\",\"description\":\"\\u7FFB\\u8BD1\"},{\"state\":[],\"steps\":[],\"parameters\":[{\"Key\":\"input\",\"Value\":\"$WEATHER_RESULT\"}],\"outputs\":[\"CLOTHING_TIPS\"],\"next_step_index\":0,\"name\":\"Tips\",\"plugin_name\":\"WritePlugin\",\"description\":\"\\u7A7F\\u8863\\u63D0\\u793A\"},{\"state\":[],\"steps\":[],\"parameters\":[{\"Key\":\"input\",\"Value\":\"Weather: $TRANSLATED_WEATHER, Clothing Tips: $CLOTHING_TIPS\"}],\"outputs\":[\"RESULT__EMAIL\"],\"next_step_index\":0,\"name\":\"WeatherMail\",\"plugin_name\":\"EmailPlugin\",\"description\":\"Write an email about weather\"}],\"parameters\":[],\"outputs\":[\"RESULT__EMAIL\"],\"next_step_index\":0,\"name\":\"planecaf1e345e0d40ea954a67c534a75702\",\"plugin_name\":\"Plan\",\"description\":\"\\u67E5\\u627E\\u5E7F\\u5DDE\\u5929\\u6C14\\u628A\\u7ED3\\u679C\\u7FFB\\u8BD1\\u6210\\u4E2D\\u6587\\u540E\\u6839\\u636E\\u5929\\u6C14\\u60C5\\u51B5\\u751F\\u6210\\u7A7F\\u8863\\u63D0\\u793A\\uFF0C\\u5E76\\u7ED3\\u5408\\u5929\\u6C14\\u7ED3\\u679C\\u548C\\u7A7F\\u8863\\u63D0\\u793A\\u5199\\u4E00\\u5C01\\u90AE\\u4EF6\"}"
      ]
     },
     "metadata": {},
     "output_type": "display_data"
    }
   ],
   "source": [
    "plan.ToJson()"
   ]
  },
  {
   "cell_type": "code",
   "execution_count": 16,
   "metadata": {
    "dotnet_interactive": {
     "language": "csharp"
    },
    "polyglot_notebook": {
     "kernelName": "csharp"
    },
    "vscode": {
     "languageId": "polyglot-notebook"
    }
   },
   "outputs": [],
   "source": [
    "var result = await kernel.RunAsync(plan);"
   ]
  },
  {
   "cell_type": "code",
   "execution_count": 17,
   "metadata": {
    "dotnet_interactive": {
     "language": "csharp"
    },
    "polyglot_notebook": {
     "kernelName": "csharp"
    },
    "vscode": {
     "languageId": "polyglot-notebook"
    }
   },
   "outputs": [
    {
     "data": {
      "text/plain": [
       "主题：关于广州天气和穿衣提示的出行提醒\n",
       "\n",
       "亲爱的同事，\n",
       "\n",
       "我希望这封邮件能够提醒您关于广州的天气情况和相应的穿衣建议。根据最新的天气预报，广州的温度为2度，且有雨。因此，我强烈建议您在出行时穿上暖和的衣物，以确保您的舒适度和健康。\n",
       "\n",
       "以下是一些建议的穿衣方式：\n",
       "\n",
       "1. 厚外套：请确保您穿上一件厚外套，以保持身体的温暖。这将有助于防止寒冷空气对您的影响。\n",
       "\n",
       "2. 毛衣：在厚外套下面，您可以选择穿上一件毛衣。毛衣可以提供额外的保暖效果，使您感到更加舒适。\n",
       "\n",
       "3. 长裤：为了保持双腿的温暖，我建议您穿上长裤。这将有助于防止寒冷空气对您的腿部造成不适。\n",
       "\n",
       "此外，我还建议您携带雨具，以防止雨水淋湿身体。您可以考虑携带雨伞或雨衣，这将在下雨时为您提供保护。\n",
       "\n",
       "最后，我想提醒您随时留意出行状况。由于天气的不确定性，可能会出现交通延误或其他不便之处。请确保您关注当地的交通状况和天气预报，并做好相应的准备。\n",
       "\n",
       "如果您有任何其他问题或需要进一步的帮助，请随时与我联系。祝您旅途愉快！\n",
       "\n",
       "最诚挚的问候，\n",
       "[您的名字]"
      ]
     },
     "metadata": {},
     "output_type": "display_data"
    }
   ],
   "source": [
    "result.GetValue<string>()"
   ]
  }
 ],
 "metadata": {
  "language_info": {
   "name": "python"
  },
  "orig_nbformat": 4
 },
 "nbformat": 4,
 "nbformat_minor": 2
}

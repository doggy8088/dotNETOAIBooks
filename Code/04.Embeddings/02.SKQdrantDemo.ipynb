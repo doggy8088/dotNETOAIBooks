{
 "cells": [
  {
   "cell_type": "code",
   "execution_count": 1,
   "metadata": {
    "dotnet_interactive": {
     "language": "csharp"
    },
    "polyglot_notebook": {
     "kernelName": "csharp"
    },
    "vscode": {
     "languageId": "polyglot-notebook"
    }
   },
   "outputs": [
    {
     "data": {
      "text/html": [
       "<div><div></div><div></div><div><strong>Installed Packages</strong><ul><li><span>Microsoft.SemanticKernel, 1.0.0-beta2</span></li><li><span>Microsoft.SemanticKernel.Connectors.Memory.Qdrant, 1.0.0-beta2</span></li></ul></div></div>"
      ]
     },
     "metadata": {},
     "output_type": "display_data"
    }
   ],
   "source": [
    "#r \"nuget: Microsoft.SemanticKernel, *-*\"\n",
    "#r \"nuget: Microsoft.SemanticKernel.Connectors.Memory.Qdrant, *-*\""
   ]
  },
  {
   "cell_type": "code",
   "execution_count": 2,
   "metadata": {
    "dotnet_interactive": {
     "language": "csharp"
    },
    "polyglot_notebook": {
     "kernelName": "csharp"
    },
    "vscode": {
     "languageId": "polyglot-notebook"
    }
   },
   "outputs": [],
   "source": [
    "\n",
    "using Microsoft.SemanticKernel;\n",
    "using Microsoft.SemanticKernel.Connectors.Memory.Qdrant;\n",
    "using Microsoft.SemanticKernel.Plugins.Memory;\n",
    "using Microsoft.SemanticKernel.Connectors.AI.OpenAI.TextEmbedding;"
   ]
  },
  {
   "cell_type": "code",
   "execution_count": 3,
   "metadata": {
    "dotnet_interactive": {
     "language": "csharp"
    },
    "polyglot_notebook": {
     "kernelName": "csharp"
    },
    "vscode": {
     "languageId": "polyglot-notebook"
    }
   },
   "outputs": [],
   "source": [
    "\n",
    "var qdrantMemoryBuilder = new MemoryBuilder();\n",
    "\n",
    "var textEmbedding = new AzureTextEmbeddingGeneration(\"TextEmbeddingsModel\", \"Your Azure OpenAI Service Endpoint\", \"Your Azure OpenAI Service API Key\");\n",
    "qdrantMemoryBuilder.WithTextEmbeddingGeneration(textEmbedding);\n",
    "qdrantMemoryBuilder.WithQdrantMemoryStore(\"Your Qdrant Endpoint\", 1536);\n",
    "\n",
    "var builder = qdrantMemoryBuilder.Build();\n",
    "\n"
   ]
  },
  {
   "cell_type": "code",
   "execution_count": 4,
   "metadata": {
    "dotnet_interactive": {
     "language": "csharp"
    },
    "polyglot_notebook": {
     "kernelName": "csharp"
    },
    "vscode": {
     "languageId": "polyglot-notebook"
    }
   },
   "outputs": [],
   "source": [
    "string MemoryCollectionName = \"demo\";\n",
    "\n",
    "await builder.SaveInformationAsync(MemoryCollectionName, id: \"id1\", text: \"我是卢建晖\");\n",
    "await builder.SaveInformationAsync(MemoryCollectionName, id: \"id2\", text: \"卢建晖是微软云技术布道师\");\n",
    "await builder.SaveInformationAsync(MemoryCollectionName, id: \"id3\", text: \"卢建晖从 2012 年到 2020 年是微软最有价值专家\");\n",
    "await builder.SaveInformationAsync(MemoryCollectionName, id: \"id4\", text: \"卢建晖专注于人工智能，移动应用开发，云原生相关技术\");"
   ]
  },
  {
   "cell_type": "code",
   "execution_count": 5,
   "metadata": {
    "dotnet_interactive": {
     "language": "csharp"
    },
    "polyglot_notebook": {
     "kernelName": "csharp"
    },
    "vscode": {
     "languageId": "polyglot-notebook"
    }
   },
   "outputs": [],
   "source": [
    "var searchResults =  builder.SearchAsync(MemoryCollectionName, \"有没有人工智能专家介绍\", limit: 1, minRelevanceScore: 0.8);\n"
   ]
  },
  {
   "cell_type": "code",
   "execution_count": 6,
   "metadata": {
    "dotnet_interactive": {
     "language": "csharp"
    },
    "polyglot_notebook": {
     "kernelName": "csharp"
    },
    "vscode": {
     "languageId": "polyglot-notebook"
    }
   },
   "outputs": [
    {
     "name": "stdout",
     "output_type": "stream",
     "text": [
      "卢建晖专注于人工智能，移动应用开发，云原生相关技术 : 0.82922995\n"
     ]
    }
   ],
   "source": [
    "await foreach (var item in searchResults)\n",
    "{\n",
    "    Console.WriteLine(item.Metadata.Text + \" : \" + item.Relevance);\n",
    "}"
   ]
  }
 ],
 "metadata": {
  "kernelspec": {
   "display_name": ".NET (C#)",
   "language": "C#",
   "name": ".net-csharp"
  },
  "language_info": {
   "name": "python"
  },
  "orig_nbformat": 4,
  "polyglot_notebook": {
   "kernelInfo": {
    "defaultKernelName": "csharp",
    "items": [
     {
      "aliases": [],
      "name": "csharp"
     }
    ]
   }
  }
 },
 "nbformat": 4,
 "nbformat_minor": 2
}
